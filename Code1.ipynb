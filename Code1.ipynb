{
 "cells": [
  {
   "cell_type": "code",
   "execution_count": 1,
   "id": "ea6ba20b",
   "metadata": {},
   "outputs": [
    {
     "name": "stdout",
     "output_type": "stream",
     "text": [
      "pygame 2.5.2 (SDL 2.28.3, Python 3.11.6)\n",
      "Hello from the pygame community. https://www.pygame.org/contribute.html\n"
     ]
    }
   ],
   "source": [
    "import tkinter as tk\n",
    "import pygame \n",
    "import time\n",
    "import datetime\n",
    "import random\n",
    "from mutagen.mp3 import MP3\n",
    "import pandas as pd\n",
    "import serial"
   ]
  },
  {
   "cell_type": "code",
   "execution_count": 2,
   "id": "2e3cfe5c",
   "metadata": {},
   "outputs": [],
   "source": [
    "class BiosemiTrigger(serial.Serial):\n",
    "    def __init__(self, Serial_Port, initial_delay = 3):\n",
    "        super().__init__(Serial_Port, baudrate = 115200)\n",
    "        time.sleep(initial_delay)\n",
    "\n",
    "    def send_trigger(self, root, duration = 8, signal_byte = 0b00000010):\n",
    "        if not (0 <= signal_byte <= 255):\n",
    "                raise ValueError(\"signal_byte must be between 0 and 255\")\n",
    "        self.write(bytes([signal_byte]))\n",
    "        #time.sleep(0.001) #1ms pulse duration\n",
    "        root.after(duration, lambda: self.write(bytes([0])))"
   ]
  },
  {
   "cell_type": "code",
   "execution_count": 3,
   "id": "0ffc1045",
   "metadata": {},
   "outputs": [],
   "source": [
    "def create_canvas(tk_window):\n",
    "    screen_width = tk_window.winfo_screenwidth()\n",
    "    screen_height = tk_window.winfo_screenheight()\n",
    "\n",
    "    canvas = tk.Canvas(tk_window, width = screen_width, height = screen_height, bg = \"black\", highlightthickness = 0)\n",
    "    canvas.pack(fill = \"both\", expand = True)\n",
    "    return canvas"
   ]
  },
  {
   "cell_type": "code",
   "execution_count": 4,
   "id": "05fe5620",
   "metadata": {},
   "outputs": [],
   "source": [
    "def save(input):\n",
    "    df = pd.read_csv(f\"{input}.csv\")\n",
    "    if not df.empty: \n",
    "      timestamp = datetime.datetime.now().strftime(\"%Y-%m-%d %H:%M:%S\")\n",
    "      begin_df = df.tail(1)\n",
    "      begin_df.reset_index(drop = True, inplace = True)\n",
    "      end_df = pd.DataFrame({\"End\": [f\"{timestamp}\"]})\n",
    "      comb_df = begin_df.combine_first(end_df)\n",
    "      comb_df = comb_df[[\"State\", \"Begin\", \"End\"]]\n",
    "      df.drop(df.tail(1).index, inplace = True)\n",
    "      df = pd.concat([df, comb_df], ignore_index = True)\n",
    "      del begin_df, end_df, comb_df\n",
    "    df.to_csv(f\"{input}.csv\", index = False)  "
   ]
  },
  {
   "cell_type": "code",
   "execution_count": 5,
   "id": "c91f963f",
   "metadata": {},
   "outputs": [],
   "source": [
    "def create_cross(canvas, tk_window, input):\n",
    "     \n",
    "    save(input)\n",
    "\n",
    "    df = pd.read_csv(f\"{input}.csv\")\n",
    "    timestamp = datetime.datetime.now().strftime(\"%Y-%m-%d %H:%M:%S\")\n",
    "    temp_df = pd.DataFrame({\"State\": \"Resting State\", \"Begin\": [f\"{timestamp}\"], \"End\" :\"\"})\n",
    "    df = pd.concat([df, temp_df], ignore_index = True)\n",
    "    df.to_csv(f\"{input}.csv\", index = False)\n",
    "    del temp_df\n",
    "\n",
    "    screen_width = tk_window.winfo_screenwidth()\n",
    "    screen_height = tk_window.winfo_screenheight()\n",
    "    \n",
    "    cross_length = 250\n",
    "    line_thickness = 13\n",
    "    x_center = screen_width // 2\n",
    "    y_center = screen_height // 2\n",
    "\n",
    "    horizontal_line = canvas.create_line(x_center - cross_length // 2, y_center,\n",
    "                    x_center + cross_length // 2, y_center,\n",
    "                    fill = \"white\", width = line_thickness)\n",
    "\n",
    "    vertical_line = canvas.create_line(x_center, y_center - cross_length // 2,\n",
    "                    x_center, y_center + cross_length // 2,\n",
    "                    fill = \"white\", width = line_thickness)\n",
    "    "
   ]
  },
  {
   "cell_type": "code",
   "execution_count": 6,
   "id": "f8fb62ef",
   "metadata": {},
   "outputs": [],
   "source": [
    "def stimuli_duration():  \n",
    "    #audio = MP3(\"Gotcha bitch.mp3\")\n",
    "    length = 1000#round(audio.info.length * 1000 + 100)\n",
    "    return length "
   ]
  },
  {
   "cell_type": "code",
   "execution_count": 7,
   "id": "1bbedb4f",
   "metadata": {},
   "outputs": [],
   "source": [
    "def stimuli(tk_window, biosemi_trigger):\n",
    "    #pygame.mixer.music.load(\"Gotcha bitch.mp3\")\n",
    "    length = stimuli_duration()\n",
    "    biosemi_trigger.send_trigger(tk_window, length)\n",
    "    #pygame.mixer.music.play()"
   ]
  },
  {
   "cell_type": "code",
   "execution_count": 8,
   "id": "66e3cebc",
   "metadata": {},
   "outputs": [],
   "source": [
    "def stim_bg(canvas, input, tk_window, biosemi_trigger):\n",
    "    save(input)\n",
    "   \n",
    "    df = pd.read_csv(f\"{input}.csv\")\n",
    "    timestamp = datetime.datetime.now().strftime(\"%Y-%m-%d %H:%M:%S\") \n",
    "        \n",
    "    temp_df = pd.DataFrame({\"State\": \"Stimuli\", \"Begin\": [f\"{timestamp}\"], \"End\" :\"\"})\n",
    "    df = pd.concat([df, temp_df], ignore_index = True)\n",
    "    df.to_csv(f\"{input}.csv\", index = False)\n",
    "    del temp_df\n",
    "    \n",
    "    canvas.delete('all')\n",
    "    stimuli(tk_window, biosemi_trigger)"
   ]
  },
  {
   "cell_type": "code",
   "execution_count": 9,
   "id": "be2aeabc",
   "metadata": {},
   "outputs": [],
   "source": [
    "def random_time():\n",
    "    randomtime = int(round(random.uniform(5.0, 8.5), 1) * 1000)\n",
    "    return randomtime"
   ]
  },
  {
   "cell_type": "code",
   "execution_count": 10,
   "id": "81519a56",
   "metadata": {},
   "outputs": [],
   "source": [
    "def stimuli_cicle(time, tk_window, canvas, input, biosemi_trigger):\n",
    "    length = stimuli_duration()\n",
    "    wait = random_time()\n",
    "\n",
    "    tk_window.after(time+wait, lambda: stim_bg(canvas, input, tk_window, biosemi_trigger))\n",
    "    tk_window.after(time+wait+length, lambda: create_cross(canvas, tk_window, input))\n",
    "    return wait"
   ]
  },
  {
   "cell_type": "code",
   "execution_count": 11,
   "id": "dec24b5d",
   "metadata": {},
   "outputs": [],
   "source": [
    "def start_exp(input, biosemi_trigger): \n",
    "    df = pd.DataFrame()\n",
    "    \n",
    "    for col in [\"State\", \"Begin\", \"End\"]:\n",
    "        df[col] = \"\"\n",
    "\n",
    "    df.to_csv(f\"{input}.csv\", index = False)\n",
    "    \n",
    "    w2 = tk.Tk()\n",
    "    w2.title(\"Experiment\")\n",
    "    w2.attributes(\"-fullscreen\", True)\n",
    "\n",
    "    canvas = create_canvas(w2)\n",
    "    create_cross(canvas, w2, input)\n",
    "    \n",
    "    time = 0\n",
    "    for i in range(3):\n",
    "        wait = stimuli_cicle(time, w2, canvas, input, biosemi_trigger)\n",
    "        time = wait + time\n",
    "        \n",
    "    wait_close = time + stimuli_duration() + 2000\n",
    "    w2.after(wait_close, lambda: save(input))\n",
    "    w2.after(wait_close, lambda: w2.destroy())"
   ]
  },
  {
   "cell_type": "code",
   "execution_count": 13,
   "id": "5568cbb0",
   "metadata": {},
   "outputs": [],
   "source": [
    "biosemi_trigger = BiosemiTrigger(\"COM4\", initial_delay = 1)\n",
    "\n",
    "w1 = tk.Tk()\n",
    "w1.geometry(\"300x200\")\n",
    "w1.title(\"Start\")\n",
    "pygame.mixer.init()\n",
    "\n",
    "\n",
    "frame = tk.Frame(w1)\n",
    "frame.pack(expand = True)\n",
    "\n",
    "entry = tk.Entry(frame)\n",
    "entry.pack(pady = (0, 5))\n",
    "\n",
    "b = tk.Button(frame, text = \"Start\", command = lambda: start_exp(entry.get(), biosemi_trigger))\n",
    "b.pack()\n",
    "\n",
    "w1.mainloop()\n",
    "biosemi_trigger.close()\n",
    "pygame.quit()"
   ]
  }
 ],
 "metadata": {
  "kernelspec": {
   "display_name": "Python 3",
   "language": "python",
   "name": "python3"
  },
  "language_info": {
   "codemirror_mode": {
    "name": "ipython",
    "version": 3
   },
   "file_extension": ".py",
   "mimetype": "text/x-python",
   "name": "python",
   "nbconvert_exporter": "python",
   "pygments_lexer": "ipython3",
   "version": "3.11.6"
  }
 },
 "nbformat": 4,
 "nbformat_minor": 5
}
