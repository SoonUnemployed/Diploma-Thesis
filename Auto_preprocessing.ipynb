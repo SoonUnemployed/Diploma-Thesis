{
 "cells": [
  {
   "cell_type": "markdown",
   "id": "b7aecd81",
   "metadata": {},
   "source": [
    "Automatic preprocessing "
   ]
  },
  {
   "cell_type": "code",
   "execution_count": null,
   "id": "8c23a82d",
   "metadata": {},
   "outputs": [],
   "source": [
    "import papermill as pm\n",
    "import os\n",
    "import import_ipynb \n",
    "import /Users/hrakol/Documens/GitHub/Create_database"
   ]
  },
  {
   "cell_type": "markdown",
   "id": "2fb98f29",
   "metadata": {},
   "source": [
    "Add parameters to pass file name"
   ]
  },
  {
   "cell_type": "code",
   "execution_count": null,
   "id": "f3c39fdc",
   "metadata": {},
   "outputs": [],
   "source": [
    "#Keep only bdf files\n",
    "files =[f for f in os.listdir(\"/Users/hrakol/Desktop/Thesis EEG\") if f.endswith(\".bdf\")]\n",
    "\n",
    "for filename in files:\n",
    "    filename = filename[:-4]\n",
    "    #Do the preprocessing for each file\n",
    "    pm.execute_notebook(\n",
    "        #input notebook\n",
    "        f\"/Users/hrakol/Desktop/Thesis EEG/Real_Time_Pre.ipynb\",\n",
    "        #output notebook\n",
    "        f\"/Users/hrakol/Desktop/Thesis EEG/output_{filename}.ipynb\",\n",
    "        #parameters\n",
    "        parameters = {\"filename\": filename}\n",
    "    )"
   ]
  },
  {
   "cell_type": "markdown",
   "id": "c77efe7a",
   "metadata": {},
   "source": [
    "Get the features "
   ]
  },
  {
   "cell_type": "code",
   "execution_count": null,
   "id": "1d15c6cc",
   "metadata": {},
   "outputs": [],
   "source": [
    "files =[f for f in os.listdir(file_path) if f.endswith(\".npz\")]\n",
    "all_data = {}\n",
    "\n",
    "for filename in files:\n",
    "    data = np.load(os.path.join(file_path, filename))\n",
    "    filename = filename[:-4] #removes npz\n",
    "    \n",
    "    features = data[\"features\"]\n",
    "    user_id = data[\"user_id\"]\n",
    "    stimuli_sequence = data[\"stimuli_sequence\"]\n",
    "    \n",
    "    all_data[filename] = {\"features\": features, \n",
    "                          \"user_id\": int(user_id), \n",
    "                          \"stimuli_sequence\": stimuli_sequence,\n",
    "                          \"extraction_model\": int(filename[-1:]) #Feature Extraction Model\n",
    "                          }"
   ]
  }
 ],
 "metadata": {
  "kernelspec": {
   "display_name": "Python 3",
   "language": "python",
   "name": "python3"
  },
  "language_info": {
   "codemirror_mode": {
    "name": "ipython",
    "version": 3
   },
   "file_extension": ".py",
   "mimetype": "text/x-python",
   "name": "python",
   "nbconvert_exporter": "python",
   "pygments_lexer": "ipython3",
   "version": "3.13.6"
  }
 },
 "nbformat": 4,
 "nbformat_minor": 5
}
