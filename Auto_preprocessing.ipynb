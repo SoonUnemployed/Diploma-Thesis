{
 "cells": [
  {
   "cell_type": "markdown",
   "id": "b7aecd81",
   "metadata": {},
   "source": [
    "Automatic preprocessing "
   ]
  },
  {
   "cell_type": "code",
   "execution_count": 3,
   "id": "8c23a82d",
   "metadata": {},
   "outputs": [],
   "source": [
    "import papermill as pm\n",
    "import os"
   ]
  },
  {
   "cell_type": "markdown",
   "id": "2fb98f29",
   "metadata": {},
   "source": [
    "Add parameters to pass file name"
   ]
  },
  {
   "cell_type": "code",
   "execution_count": null,
   "id": "f3c39fdc",
   "metadata": {},
   "outputs": [],
   "source": [
    "#Keep only bdf files\n",
    "files =[f for f in os.listdir(\"/Users/hrakol/Desktop/Thesis EEG\") if f.endswith(\".bdf\")]\n",
    "\n",
    "for filename in files:\n",
    "    if filename.endswith(\".bdf\"):\n",
    "        filename = filename[:-4]\n",
    "    #Do the preprocessing for each file\n",
    "    pm.execute_notebook(\n",
    "        #input notebook\n",
    "        f\"/Users/hrakol/Desktop/Thesis EEG/{filename}.ipynb\",\n",
    "        #output notebook\n",
    "        f\"/Users/hrakol/Desktop/Thesis EEG/output_{filename}.ipynb\",\n",
    "        #parameters\n",
    "        parameters = {\"filename\": filename}\n",
    "    )"
   ]
  }
 ],
 "metadata": {
  "kernelspec": {
   "display_name": "Python 3",
   "language": "python",
   "name": "python3"
  },
  "language_info": {
   "codemirror_mode": {
    "name": "ipython",
    "version": 3
   },
   "file_extension": ".py",
   "mimetype": "text/x-python",
   "name": "python",
   "nbconvert_exporter": "python",
   "pygments_lexer": "ipython3",
   "version": "3.13.6"
  }
 },
 "nbformat": 4,
 "nbformat_minor": 5
}
