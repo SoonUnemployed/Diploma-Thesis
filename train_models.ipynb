{
 "cells": [
  {
   "cell_type": "markdown",
   "id": "b7aecd81",
   "metadata": {},
   "source": [
    "Automatic preprocessing "
   ]
  },
  {
   "cell_type": "code",
   "execution_count": 1,
   "id": "8c23a82d",
   "metadata": {},
   "outputs": [],
   "source": [
    "import papermill as pm\n",
    "import os\n",
    "import nbformat\n",
    "import nbclient"
   ]
  },
  {
   "cell_type": "markdown",
   "id": "d75776d1",
   "metadata": {},
   "source": [
    "Preprocessing / Feature extraction"
   ]
  },
  {
   "cell_type": "code",
   "execution_count": 2,
   "id": "0da90b06",
   "metadata": {},
   "outputs": [
    {
     "name": "stderr",
     "output_type": "stream",
     "text": [
      "c:\\Users\\Iraklis Kolokas\\AppData\\Local\\Programs\\Python\\Python313\\Lib\\site-packages\\tqdm\\auto.py:21: TqdmWarning: IProgress not found. Please update jupyter and ipywidgets. See https://ipywidgets.readthedocs.io/en/stable/user_install.html\n",
      "  from .autonotebook import tqdm as notebook_tqdm\n",
      "Executing: 100%|██████████| 89/89 [01:01<00:00,  1.45cell/s]\n",
      "Executing: 100%|██████████| 89/89 [01:01<00:00,  1.45cell/s]\n",
      "Executing: 100%|██████████| 89/89 [01:05<00:00,  1.35cell/s]\n",
      "Executing: 100%|██████████| 89/89 [01:12<00:00,  1.24cell/s]\n",
      "Executing: 100%|██████████| 89/89 [01:09<00:00,  1.29cell/s]\n",
      "Executing: 100%|██████████| 89/89 [01:07<00:00,  1.32cell/s]\n",
      "Executing:  38%|███▊      | 34/89 [00:06<00:10,  5.44cell/s]\n"
     ]
    },
    {
     "ename": "PapermillExecutionError",
     "evalue": "\n---------------------------------------------------------------------------\nException encountered at \"In [18]\":\n---------------------------------------------------------------------------\nIndexError                                Traceback (most recent call last)\nCell In[18], line 33\n     31         epochs_in_clusters[cl_2000].pop(ep)\n     32     else:\n---> 33         epochs_in_clusters[cl_4000].pop(ep)\n     35 #Then check the lengths of the rest of clusters an fix them\n     36 if len(epochs_in_clusters[cl_2000]) > len(epochs_in_clusters[cl_4000]):\n\nIndexError: pop index out of range\n",
     "output_type": "error",
     "traceback": [
      "\u001b[31m---------------------------------------------------------------------------\u001b[39m",
      "\u001b[31mPapermillExecutionError\u001b[39m                   Traceback (most recent call last)",
      "\u001b[36mCell\u001b[39m\u001b[36m \u001b[39m\u001b[32mIn[2]\u001b[39m\u001b[32m, line 17\u001b[39m\n\u001b[32m     14\u001b[39m \u001b[38;5;28;01mwith\u001b[39;00m \u001b[38;5;28mopen\u001b[39m(\u001b[33mf\u001b[39m\u001b[33m\"\u001b[39m\u001b[33mC:/Users/Iraklis Kolokas/Desktop/Thesis/papermill outputs/output_\u001b[39m\u001b[38;5;132;01m{\u001b[39;00mfilename\u001b[38;5;132;01m}\u001b[39;00m\u001b[33m.ipynb\u001b[39m\u001b[33m\"\u001b[39m, \u001b[33m\"\u001b[39m\u001b[33mw\u001b[39m\u001b[33m\"\u001b[39m) \u001b[38;5;28;01mas\u001b[39;00m f:\n\u001b[32m     15\u001b[39m     nbformat.write(notebook, f)\n\u001b[32m---> \u001b[39m\u001b[32m17\u001b[39m \u001b[43mpm\u001b[49m\u001b[43m.\u001b[49m\u001b[43mexecute_notebook\u001b[49m\u001b[43m(\u001b[49m\n\u001b[32m     18\u001b[39m \u001b[43m    \u001b[49m\u001b[33;43mf\u001b[39;49m\u001b[33;43m\"\u001b[39;49m\u001b[33;43mC:/Users/Iraklis Kolokas/Desktop/Thesis/papermill outputs/output_\u001b[39;49m\u001b[38;5;132;43;01m{\u001b[39;49;00m\u001b[43mfilename\u001b[49m\u001b[38;5;132;43;01m}\u001b[39;49;00m\u001b[33;43m.ipynb\u001b[39;49m\u001b[33;43m\"\u001b[39;49m\u001b[43m,\u001b[49m\n\u001b[32m     19\u001b[39m \u001b[43m    \u001b[49m\u001b[33;43mf\u001b[39;49m\u001b[33;43m\"\u001b[39;49m\u001b[33;43mC:/Users/Iraklis Kolokas/Desktop/Thesis/papermill outputs/output_\u001b[39;49m\u001b[38;5;132;43;01m{\u001b[39;49;00m\u001b[43mfilename\u001b[49m\u001b[38;5;132;43;01m}\u001b[39;49;00m\u001b[33;43m.ipynb\u001b[39;49m\u001b[33;43m\"\u001b[39;49m\u001b[43m,\u001b[49m\n\u001b[32m     20\u001b[39m \u001b[43m\u001b[49m\u001b[43m)\u001b[49m\n",
      "\u001b[36mFile \u001b[39m\u001b[32mc:\\Users\\Iraklis Kolokas\\AppData\\Local\\Programs\\Python\\Python313\\Lib\\site-packages\\papermill\\execute.py:131\u001b[39m, in \u001b[36mexecute_notebook\u001b[39m\u001b[34m(input_path, output_path, parameters, engine_name, request_save_on_cell_execute, prepare_only, kernel_name, language, progress_bar, log_output, stdout_file, stderr_file, start_timeout, report_mode, cwd, **engine_kwargs)\u001b[39m\n\u001b[32m    116\u001b[39m         nb = papermill_engines.execute_notebook_with_engine(\n\u001b[32m    117\u001b[39m             engine_name,\n\u001b[32m    118\u001b[39m             nb,\n\u001b[32m   (...)\u001b[39m\u001b[32m    127\u001b[39m             **engine_kwargs,\n\u001b[32m    128\u001b[39m         )\n\u001b[32m    130\u001b[39m     \u001b[38;5;66;03m# Check for errors first (it saves on error before raising)\u001b[39;00m\n\u001b[32m--> \u001b[39m\u001b[32m131\u001b[39m     \u001b[43mraise_for_execution_errors\u001b[49m\u001b[43m(\u001b[49m\u001b[43mnb\u001b[49m\u001b[43m,\u001b[49m\u001b[43m \u001b[49m\u001b[43moutput_path\u001b[49m\u001b[43m)\u001b[49m\n\u001b[32m    133\u001b[39m \u001b[38;5;66;03m# Write final output in case the engine didn't write it on cell completion.\u001b[39;00m\n\u001b[32m    134\u001b[39m write_ipynb(nb, output_path)\n",
      "\u001b[36mFile \u001b[39m\u001b[32mc:\\Users\\Iraklis Kolokas\\AppData\\Local\\Programs\\Python\\Python313\\Lib\\site-packages\\papermill\\execute.py:251\u001b[39m, in \u001b[36mraise_for_execution_errors\u001b[39m\u001b[34m(nb, output_path)\u001b[39m\n\u001b[32m    248\u001b[39m nb.cells.insert(\u001b[32m0\u001b[39m, error_msg_cell)\n\u001b[32m    250\u001b[39m write_ipynb(nb, output_path)\n\u001b[32m--> \u001b[39m\u001b[32m251\u001b[39m \u001b[38;5;28;01mraise\u001b[39;00m error\n",
      "\u001b[31mPapermillExecutionError\u001b[39m: \n---------------------------------------------------------------------------\nException encountered at \"In [18]\":\n---------------------------------------------------------------------------\nIndexError                                Traceback (most recent call last)\nCell In[18], line 33\n     31         epochs_in_clusters[cl_2000].pop(ep)\n     32     else:\n---> 33         epochs_in_clusters[cl_4000].pop(ep)\n     35 #Then check the lengths of the rest of clusters an fix them\n     36 if len(epochs_in_clusters[cl_2000]) > len(epochs_in_clusters[cl_4000]):\n\nIndexError: pop index out of range\n"
     ]
    }
   ],
   "source": [
    "#Keep only bdf files\",\n",
    "files =[f for f in os.listdir(\"C:/Users/Iraklis Kolokas/Desktop/Thesis/EEG\") if f.endswith(\".bdf\")]\n",
    "                                                                                  \n",
    "for filename in files:\n",
    "    filename = filename[:-4]\n",
    "    \n",
    "    with open(f\"C:/Users/Iraklis Kolokas/Documents/GitHub/Diploma-Thesis/Preprocessing.ipynb\") as f:\n",
    "        notebook = nbformat.read(f, as_version = 4)\n",
    "    \n",
    "    for cell in notebook.cells:\n",
    "        if cell.cell_type == \"code\" and 'filename = \"user_18_session_1\"' in cell.source:\n",
    "            cell.source = cell.source.replace('filename = \"user_18_session_1\"', f'filename = \"{filename}\"')\n",
    "    \n",
    "    with open(f\"C:/Users/Iraklis Kolokas/Desktop/Thesis/papermill outputs/output_{filename}.ipynb\", \"w\") as f:\n",
    "        nbformat.write(notebook, f)\n",
    "    \n",
    "    pm.execute_notebook(\n",
    "        f\"C:/Users/Iraklis Kolokas/Desktop/Thesis/papermill outputs/output_{filename}.ipynb\",\n",
    "        f\"C:/Users/Iraklis Kolokas/Desktop/Thesis/papermill outputs/output_{filename}.ipynb\",\n",
    "    )"
   ]
  },
  {
   "cell_type": "markdown",
   "id": "e1ca8acf",
   "metadata": {},
   "source": [
    "Averages / Trained models"
   ]
  },
  {
   "cell_type": "code",
   "execution_count": null,
   "id": "de87d6e7",
   "metadata": {},
   "outputs": [],
   "source": [
    "pm.execute_notebook(\n",
    "   \"C:\\Users\\Iraklis Kolokas\\Documents\\GitHub\\Diploma-Thesis/Create_database\"\n",
    "   \"C:\\Users\\Iraklis Kolokas\\Documents\\GitHub\\Diploma-Thesis/Create_database\"\n",
    ")"
   ]
  }
 ],
 "metadata": {
  "kernelspec": {
   "display_name": "Python 3",
   "language": "python",
   "name": "python3"
  },
  "language_info": {
   "codemirror_mode": {
    "name": "ipython",
    "version": 3
   },
   "file_extension": ".py",
   "mimetype": "text/x-python",
   "name": "python",
   "nbconvert_exporter": "python",
   "pygments_lexer": "ipython3",
   "version": "3.13.3"
  }
 },
 "nbformat": 4,
 "nbformat_minor": 5
}
