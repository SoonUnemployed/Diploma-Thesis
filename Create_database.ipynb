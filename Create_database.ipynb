{
 "cells": [
  {
   "cell_type": "markdown",
   "id": "36eb0202",
   "metadata": {
    "tags": [
     "papermill-error-cell-tag"
    ]
   },
   "source": [
    "<span style=\"color:red; font-family:Helvetica Neue, Helvetica, Arial, sans-serif; font-size:2em;\">An Exception was encountered at '<a href=\"#papermill-error-cell\">In [8]</a>'.</span>"
   ]
  },
  {
   "cell_type": "code",
   "execution_count": 3,
   "id": "2742fa1c",
   "metadata": {
    "execution": {
     "iopub.execute_input": "2025-09-08T21:38:07.414589Z",
     "iopub.status.busy": "2025-09-08T21:38:07.414321Z",
     "iopub.status.idle": "2025-09-08T21:38:09.396776Z",
     "shell.execute_reply": "2025-09-08T21:38:09.396340Z"
    },
    "papermill": {
     "duration": 1.986466,
     "end_time": "2025-09-08T21:38:09.397559",
     "exception": false,
     "start_time": "2025-09-08T21:38:07.411093",
     "status": "completed"
    },
    "tags": []
   },
   "outputs": [],
   "source": [
    "import numpy as np\n",
    "import pickle\n",
    "from sklearn.preprocessing import OneHotEncoder\n",
    "import torch\n",
    "from create_database_functions import *"
   ]
  },
  {
   "cell_type": "code",
   "execution_count": 4,
   "id": "050d17c0",
   "metadata": {
    "execution": {
     "iopub.execute_input": "2025-09-08T21:38:09.402424Z",
     "iopub.status.busy": "2025-09-08T21:38:09.402170Z",
     "iopub.status.idle": "2025-09-08T21:38:09.404687Z",
     "shell.execute_reply": "2025-09-08T21:38:09.404191Z"
    },
    "papermill": {
     "duration": 0.005775,
     "end_time": "2025-09-08T21:38:09.405774",
     "exception": false,
     "start_time": "2025-09-08T21:38:09.399999",
     "status": "completed"
    },
    "tags": []
   },
   "outputs": [],
   "source": [
    "file_path = \"C:/Users/Iraklis Kolokas/Desktop/Thesis/Features\""
   ]
  },
  {
   "cell_type": "markdown",
   "id": "cf25206a",
   "metadata": {
    "papermill": {
     "duration": 0.001902,
     "end_time": "2025-09-08T21:38:09.409728",
     "exception": false,
     "start_time": "2025-09-08T21:38:09.407826",
     "status": "completed"
    },
    "tags": []
   },
   "source": [
    "Get features"
   ]
  },
  {
   "cell_type": "code",
   "execution_count": 5,
   "id": "c345dafc",
   "metadata": {
    "execution": {
     "iopub.execute_input": "2025-09-08T21:38:09.413930Z",
     "iopub.status.busy": "2025-09-08T21:38:09.413652Z",
     "iopub.status.idle": "2025-09-08T21:38:09.461769Z",
     "shell.execute_reply": "2025-09-08T21:38:09.461318Z"
    },
    "papermill": {
     "duration": 0.051114,
     "end_time": "2025-09-08T21:38:09.462531",
     "exception": false,
     "start_time": "2025-09-08T21:38:09.411417",
     "status": "completed"
    },
    "tags": []
   },
   "outputs": [],
   "source": [
    "all_data = get_files(file_path)"
   ]
  },
  {
   "cell_type": "markdown",
   "id": "3bf13875",
   "metadata": {
    "papermill": {
     "duration": 0.001591,
     "end_time": "2025-09-08T21:38:09.465741",
     "exception": false,
     "start_time": "2025-09-08T21:38:09.464150",
     "status": "completed"
    },
    "tags": []
   },
   "source": [
    "Cosine Similarity"
   ]
  },
  {
   "cell_type": "markdown",
   "id": "623d3d71",
   "metadata": {
    "papermill": {
     "duration": 0.001548,
     "end_time": "2025-09-08T21:38:09.468921",
     "exception": false,
     "start_time": "2025-09-08T21:38:09.467373",
     "status": "completed"
    },
    "tags": []
   },
   "source": [
    "Averages between each session and for features from the same acoustic stimuli"
   ]
  },
  {
   "cell_type": "code",
   "execution_count": 6,
   "id": "edaeb5f6",
   "metadata": {
    "execution": {
     "iopub.execute_input": "2025-09-08T21:38:09.473955Z",
     "iopub.status.busy": "2025-09-08T21:38:09.473619Z",
     "iopub.status.idle": "2025-09-08T21:38:09.476959Z",
     "shell.execute_reply": "2025-09-08T21:38:09.476532Z"
    },
    "papermill": {
     "duration": 0.006924,
     "end_time": "2025-09-08T21:38:09.477745",
     "exception": false,
     "start_time": "2025-09-08T21:38:09.470821",
     "status": "completed"
    },
    "tags": []
   },
   "outputs": [],
   "source": [
    "av_per_user, each_freq_av = get_averages(all_data)"
   ]
  },
  {
   "cell_type": "markdown",
   "id": "9baf897f",
   "metadata": {
    "papermill": {
     "duration": 0.001957,
     "end_time": "2025-09-08T21:38:09.481445",
     "exception": false,
     "start_time": "2025-09-08T21:38:09.479488",
     "status": "completed"
    },
    "tags": []
   },
   "source": [
    "Neural Network"
   ]
  },
  {
   "cell_type": "code",
   "execution_count": 7,
   "id": "864a9740",
   "metadata": {
    "execution": {
     "iopub.execute_input": "2025-09-08T21:38:09.485728Z",
     "iopub.status.busy": "2025-09-08T21:38:09.485476Z",
     "iopub.status.idle": "2025-09-08T21:38:09.488268Z",
     "shell.execute_reply": "2025-09-08T21:38:09.487613Z"
    },
    "papermill": {
     "duration": 0.006528,
     "end_time": "2025-09-08T21:38:09.489639",
     "exception": false,
     "start_time": "2025-09-08T21:38:09.483111",
     "status": "completed"
    },
    "tags": []
   },
   "outputs": [],
   "source": [
    "#Check if the system has a GPU\n",
    "#cuda = torch.cuda.is_available()\n",
    "#device = \"cuda\" if cuda else \"cpu\"\n",
    "#if cuda:\n",
    "    #torch.backends.cudnn.benchmark = True "
   ]
  },
  {
   "cell_type": "code",
   "execution_count": 8,
   "id": "f622cd45",
   "metadata": {
    "execution": {
     "iopub.execute_input": "2025-09-08T21:38:09.494239Z",
     "iopub.status.busy": "2025-09-08T21:38:09.494005Z",
     "iopub.status.idle": "2025-09-08T21:38:09.502814Z",
     "shell.execute_reply": "2025-09-08T21:38:09.502296Z"
    },
    "papermill": {
     "duration": 0.012539,
     "end_time": "2025-09-08T21:38:09.503918",
     "exception": false,
     "start_time": "2025-09-08T21:38:09.491379",
     "status": "completed"
    },
    "tags": []
   },
   "outputs": [],
   "source": [
    "features_1, stimuli_1, user_ids_1 = make_lists(all_data, 1)\n",
    "features_2, stimuli_2, user_ids_2 = make_lists(all_data, 2)"
   ]
  },
  {
   "cell_type": "code",
   "execution_count": 9,
   "id": "9380af2c",
   "metadata": {
    "execution": {
     "iopub.execute_input": "2025-09-08T21:38:09.509805Z",
     "iopub.status.busy": "2025-09-08T21:38:09.509607Z",
     "iopub.status.idle": "2025-09-08T21:38:09.522632Z",
     "shell.execute_reply": "2025-09-08T21:38:09.521774Z"
    },
    "papermill": {
     "duration": 0.016855,
     "end_time": "2025-09-08T21:38:09.523505",
     "exception": false,
     "start_time": "2025-09-08T21:38:09.506650",
     "status": "completed"
    },
    "tags": []
   },
   "outputs": [],
   "source": [
    "x_1, x_2, y_1, y_2, loader_1, loader_2 = make_databases(features_1, features_2, user_ids_1, user_ids_2)"
   ]
  },
  {
   "cell_type": "markdown",
   "id": "6e8583d6",
   "metadata": {
    "tags": [
     "papermill-error-cell-tag"
    ]
   },
   "source": [
    "<span id=\"papermill-error-cell\" style=\"color:red; font-family:Helvetica Neue, Helvetica, Arial, sans-serif; font-size:2em;\">Execution using papermill encountered an exception here and stopped:</span>"
   ]
  },
  {
   "cell_type": "code",
   "execution_count": null,
   "id": "7e02bf98",
   "metadata": {
    "execution": {
     "iopub.execute_input": "2025-09-08T21:38:09.527637Z",
     "iopub.status.busy": "2025-09-08T21:38:09.527444Z",
     "iopub.status.idle": "2025-09-08T21:38:10.617919Z",
     "shell.execute_reply": "2025-09-08T21:38:10.617316Z"
    },
    "papermill": {
     "duration": 1.093398,
     "end_time": "2025-09-08T21:38:10.618636",
     "exception": true,
     "start_time": "2025-09-08T21:38:09.525238",
     "status": "failed"
    },
    "tags": []
   },
   "outputs": [
    {
     "ename": "TypeError",
     "evalue": "cannot unpack non-iterable int object",
     "output_type": "error",
     "traceback": [
      "\u001b[31m---------------------------------------------------------------------------\u001b[39m",
      "\u001b[31mTypeError\u001b[39m                                 Traceback (most recent call last)",
      "\u001b[36mCell\u001b[39m\u001b[36m \u001b[39m\u001b[32mIn[22]\u001b[39m\u001b[32m, line 2\u001b[39m\n\u001b[32m      1\u001b[39m \u001b[38;5;66;03m#Remap labels to fit the training\u001b[39;00m\n\u001b[32m----> \u001b[39m\u001b[32m2\u001b[39m id_mapping_1 = {old_id: new_id \u001b[38;5;28;01mfor\u001b[39;00m new_id, old_id \u001b[38;5;129;01min\u001b[39;00m \u001b[38;5;28mrange\u001b[39m(\u001b[38;5;28mlen\u001b[39m((torch.unique(y_1))) - \u001b[32m1\u001b[39m)}\n\u001b[32m      3\u001b[39m y_1_remapped = torch.tensor([id_mapping_1[\u001b[38;5;28mid\u001b[39m.item()] \u001b[38;5;28;01mfor\u001b[39;00m \u001b[38;5;28mid\u001b[39m \u001b[38;5;129;01min\u001b[39;00m y_1], dtype=torch.long)\n\u001b[32m      4\u001b[39m id_mapping_2 = {old_id: new_id \u001b[38;5;28;01mfor\u001b[39;00m new_id, old_id \u001b[38;5;129;01min\u001b[39;00m \u001b[38;5;28mrange\u001b[39m(\u001b[38;5;28mlen\u001b[39m((torch.unique(y_2))) - \u001b[32m1\u001b[39m)}\n",
      "\u001b[31mTypeError\u001b[39m: cannot unpack non-iterable int object"
     ]
    }
   ],
   "source": [
    "#Remap labels to fit the training\n",
    "id_mapping_1 = \n",
    "y_1_remapped = torch.tensor([id_mapping_1[id.item()] for id in y_1], dtype=torch.long)\n",
    "id_mapping_2 = \n",
    "y_2_remapped = torch.tensor([id_mapping_2[id.item()] for id in y_2], dtype=torch.long)\n",
    "\n",
    "#Train the feature-only model\n",
    "model1 = UserClassifier(x_1.shape[1], len(torch.unique(y_1_remapped)))\n",
    "trained_model1 = train_classifier(model1, loader_1, n_epochs = 10)#, device = device)\n",
    "\n",
    "model2 = UserClassifier(x_2.shape[1], len(torch.unique(y_2_remapped)))\n",
    "trained_model2 = train_classifier(model2, loader_2, n_epochs = 10)#, device = device)"
   ]
  },
  {
   "cell_type": "code",
   "execution_count": null,
   "id": "d920be37",
   "metadata": {
    "papermill": {
     "duration": null,
     "end_time": null,
     "exception": null,
     "start_time": null,
     "status": "pending"
    },
    "tags": []
   },
   "outputs": [],
   "source": [
    "#Add the stimuli labels to each feature with OneHotEncoder\n",
    "stimuli_1 = np.hstack(stimuli_1)\n",
    "stimuli_2 = np.hstack(stimuli_2)\n",
    "\n",
    "stimuli_1 = stimuli_1.reshape(-1,1)\n",
    "stimuli_2 = stimuli_2.reshape(-1,1)\n",
    "\n",
    "encoder = OneHotEncoder(sparse_output = False)\n",
    "stimuli_1 = encoder.fit_transform(stimuli_1)\n",
    "stimuli_2 = encoder.fit_transform(stimuli_2)\n",
    "\n",
    "#Add the encoded stimuli labels to the corresponding feature\n",
    "features_1 = np.hstack([features_1, stimuli_1])\n",
    "features_2 = np.hstack([features_2, stimuli_2])"
   ]
  },
  {
   "cell_type": "code",
   "execution_count": null,
   "id": "f07701c1",
   "metadata": {
    "papermill": {
     "duration": null,
     "end_time": null,
     "exception": null,
     "start_time": null,
     "status": "pending"
    },
    "tags": []
   },
   "outputs": [],
   "source": [
    "x_1, x_2, y_1, y_2, loader_1, loader_2 = make_databases(features_1, features_2, user_ids_1, user_ids_2)"
   ]
  },
  {
   "cell_type": "code",
   "execution_count": null,
   "id": "54cbabee",
   "metadata": {
    "papermill": {
     "duration": null,
     "end_time": null,
     "exception": null,
     "start_time": null,
     "status": "pending"
    },
    "tags": []
   },
   "outputs": [],
   "source": [
    "#Train the feature-label model\n",
    "model3 = EEGUserClassifier(x_1.shape[1], len(torch.unique(y_1)))\n",
    "trained_model3 = train_classifier(model3, loader_1, n_epochs = 10)\n",
    "\n",
    "model4 = EEGUserClassifier(x_2.shape[1], len(torch.unique(y_2)))\n",
    "trained_model4 = train_classifier(model4, loader_2, n_epochs = 10)"
   ]
  },
  {
   "cell_type": "markdown",
   "id": "636eba4e",
   "metadata": {
    "papermill": {
     "duration": null,
     "end_time": null,
     "exception": null,
     "start_time": null,
     "status": "pending"
    },
    "tags": []
   },
   "source": [
    "Save all the models"
   ]
  },
  {
   "cell_type": "code",
   "execution_count": null,
   "id": "54ff10a4",
   "metadata": {
    "papermill": {
     "duration": null,
     "end_time": null,
     "exception": null,
     "start_time": null,
     "status": "pending"
    },
    "tags": []
   },
   "outputs": [],
   "source": [
    "torch.save(trained_model1.state_dict(), \"C:/Users/Iraklis Kolokas/Desktop/Thesis/Databases/user_classifier_1.pth\")\n",
    "torch.save(trained_model2.state_dict(), \"C:/Users/Iraklis Kolokas/Desktop/Thesis/Databases/user_classifier_2.pth\")\n",
    "torch.save(trained_model3.state_dict(), \"C:/Users/Iraklis Kolokas/Desktop/Thesis/Databases/user_classifier_w_labels_1.pth\")\n",
    "torch.save(trained_model4.state_dict(), \"C:/Users/Iraklis Kolokas/Desktop/Thesis/Databases/user_classifier_w_labels_2.pth\")"
   ]
  },
  {
   "cell_type": "markdown",
   "id": "581fe32b",
   "metadata": {
    "papermill": {
     "duration": null,
     "end_time": null,
     "exception": null,
     "start_time": null,
     "status": "pending"
    },
    "tags": []
   },
   "source": [
    "Save averages"
   ]
  },
  {
   "cell_type": "code",
   "execution_count": null,
   "id": "329f0334",
   "metadata": {
    "papermill": {
     "duration": null,
     "end_time": null,
     "exception": null,
     "start_time": null,
     "status": "pending"
    },
    "tags": []
   },
   "outputs": [],
   "source": [
    "#Save as pickle file to preserve dictionary structure\n",
    "with open(\"C:/Users/Iraklis Kolokas/Desktop/Thesis/Databases/each_freq_av.pkl\" \"wb\") as f:\n",
    "    pickle.dump(each_freq_av, f)\n",
    "    \n",
    "with open(\"C:/Users/Iraklis Kolokas/Desktop/Thesis/Databases/av_per_user.pkl\" \"wb\") as f:\n",
    "    pickle.dump(av_per_user, f)"
   ]
  }
 ],
 "metadata": {
  "kernelspec": {
   "display_name": "Python 3",
   "language": "python",
   "name": "python3"
  },
  "language_info": {
   "codemirror_mode": {
    "name": "ipython",
    "version": 3
   },
   "file_extension": ".py",
   "mimetype": "text/x-python",
   "name": "python",
   "nbconvert_exporter": "python",
   "pygments_lexer": "ipython3",
   "version": "3.13.3"
  },
  "papermill": {
   "default_parameters": {},
   "duration": 5.407382,
   "end_time": "2025-09-08T21:38:11.523467",
   "environment_variables": {},
   "exception": true,
   "input_path": "C:/Users/Iraklis Kolokas/Documents/GitHub/Diploma-Thesis/Create_database.ipynb",
   "output_path": "C:/Users/Iraklis Kolokas/Documents/GitHub/Diploma-Thesis/Create_database.ipynb",
   "parameters": {},
   "start_time": "2025-09-08T21:38:06.116085",
   "version": "2.6.0"
  }
 },
 "nbformat": 4,
 "nbformat_minor": 5
}
