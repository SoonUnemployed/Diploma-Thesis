{
 "cells": [
  {
   "cell_type": "code",
   "execution_count": null,
   "id": "2742fa1c",
   "metadata": {},
   "outputs": [],
   "source": [
    "import os\n",
    "import numpy as np\n",
    "import pickle\n",
    "from sklearn.preprocessing import OneHotEncoder\n",
    "from torch.utils.data import TensorDataset, DataLoader\n",
    "import torch.nn as nn\n",
    "import torch.optim as optim \n",
    "import torch\n"
   ]
  },
  {
   "cell_type": "code",
   "execution_count": null,
   "id": "050d17c0",
   "metadata": {},
   "outputs": [],
   "source": [
    "file_path = \"/Users/hrakol/Desktop/Thesis EEG\""
   ]
  },
  {
   "cell_type": "markdown",
   "id": "cf25206a",
   "metadata": {},
   "source": [
    "Get features"
   ]
  },
  {
   "cell_type": "code",
   "execution_count": null,
   "id": "cb0ed6bd",
   "metadata": {},
   "outputs": [],
   "source": [
    "#Keep only npz files\n",
    "files =[f for f in os.listdir(file_path) if f.endswith(\".npz\")]\n",
    "all_data = {}\n",
    "\n",
    "for filename in files:\n",
    "    data = np.load(os.path.join(file_path, filename))\n",
    "    filename = filename[:-4] #removes npz\n",
    "    \n",
    "    features = data[\"features\"]\n",
    "    user_id = data[\"user_id\"]\n",
    "    stimuli_sequence = data[\"stimuli_sequence\"]\n",
    "    \n",
    "    all_data[filename] = {\"features\": features, \n",
    "                          \"user_id\": int(user_id), \n",
    "                          \"stimuli_sequence\": stimuli_sequence,\n",
    "                          \"extraction_model\": int(filename[-1:]) #Feature Extraction Model\n",
    "                          }"
   ]
  },
  {
   "cell_type": "markdown",
   "id": "3bf13875",
   "metadata": {},
   "source": [
    "Cosine Similarity"
   ]
  },
  {
   "cell_type": "markdown",
   "id": "623d3d71",
   "metadata": {},
   "source": [
    "Averages between each session and for features from the same acoustic stimuli"
   ]
  },
  {
   "cell_type": "code",
   "execution_count": null,
   "id": "c233db10",
   "metadata": {},
   "outputs": [],
   "source": [
    "#We need to compute the averages to use later for the cosine similarity model \n",
    "\n",
    "#Set so only unique values stay\n",
    "user_ids = set(info[\"user_id\"] for info in all_data.values())\n",
    "av_per_user = {}\n",
    "\n",
    "for user_id in user_ids:\n",
    "    #Feutures for each user in list \n",
    "    user_features_1 = [\n",
    "                        np.array(info[\"features\"])\n",
    "                        for _, info in all_data.items() #_, because we don't care about the filename\n",
    "                        if info[\"user_id\"] == user_id and info[\"extraction_model\"] == 1\n",
    "                    ]\n",
    "    \n",
    "    stim_sequece_1 = [\n",
    "                        info[\"stimuli_sequence\"]\n",
    "                        for _, info in all_data.items()\n",
    "                        if info[\"user_id\"] == user_id and info[\"extraction_model\"] == 1\n",
    "                    ]\n",
    "    \n",
    "    user_features_2 = [\n",
    "                        np.array(info[\"features\"])\n",
    "                        for _, info in all_data.items() \n",
    "                        if info[\"user_id\"] == user_id and info[\"extraction_model\"] == 2\n",
    "                    ]\n",
    "    \n",
    "    stim_sequece_2 = [\n",
    "                        info[\"stimuli_sequence\"]\n",
    "                        for _, info in all_data.items() \n",
    "                        if info[\"user_id\"] == user_id and info[\"extraction_model\"] == 2\n",
    "                    ]\n",
    "    \n",
    "    #Average per session for each user per model\n",
    "    session_avgs_1 = [np.mean(feature, axis = 0) for feature in user_features_1]\n",
    "    session_avgs_2 = [np.mean(feature, axis = 0) for feature in user_features_2]\n",
    "    \n",
    "    #Get each embedding array from the user_features\n",
    "    each_freq_av = {}\n",
    "        \n",
    "    for cl_num in set(stim_sequece_1[0]):\n",
    "        temp_freq_list = []\n",
    "        for i in range(len(user_features_1)):\n",
    "            for j in range(len(stim_sequece_1[i])):\n",
    "                if stimuli_sequence[i][j] == cl_num:\n",
    "                    temp_freq_list.append(user_features_1[i][j])\n",
    "        each_freq_av[(cl_num, 1)] = np.mean(temp_freq_list, axis = 0)\n",
    "\n",
    "    for cl_num in set(stim_sequece_2[0]):\n",
    "        temp_freq_list = []\n",
    "        for i in range(len(user_features_2)):\n",
    "            for j in range(len(stim_sequece_2[i])):\n",
    "                if stimuli_sequence[i][j] == cl_num:\n",
    "                    temp_freq_list.append(user_features_2[i][j])\n",
    "        each_freq_av[(cl_num, 2)] = np.mean(temp_freq_list, axis = 0)\n",
    "\n",
    "\n",
    "    #Get the averages per user for each model\n",
    "    av_per_user[(user_id, 1)] = np.mean(session_avgs_1, axis = 0)\n",
    "    av_per_user[(user_id, 2)] = np.mean(session_avgs_2, axis = 0)"
   ]
  },
  {
   "cell_type": "code",
   "execution_count": null,
   "id": "329f0334",
   "metadata": {},
   "outputs": [],
   "source": [
    "#Save as pickle file to preserve dictionary structure\n",
    "with open(\"each_freq_av.pkl\" \"wb\") as f:\n",
    "    pickle.dump(each_freq_av, f)\n",
    "    \n",
    "with open(\"av_per_user.pkl\" \"wb\") as f:\n",
    "    pickle.dump(av_per_user, f)"
   ]
  },
  {
   "cell_type": "markdown",
   "id": "9baf897f",
   "metadata": {},
   "source": [
    "Neural Network"
   ]
  },
  {
   "cell_type": "code",
   "execution_count": null,
   "id": "4c33ecc3",
   "metadata": {},
   "outputs": [],
   "source": [
    "#Classification Layer for the data without the labels\n",
    "class UserClassifier(nn.Module):\n",
    "    def __init__(self, embedding_dim, n_users):\n",
    "        super().__init__()\n",
    "        self.fc = nn.Linear(embedding_dim, n_users)\n",
    "\n",
    "    def forward(self, x):\n",
    "        return self.fc(x)"
   ]
  },
  {
   "cell_type": "code",
   "execution_count": null,
   "id": "b647cbe8",
   "metadata": {},
   "outputs": [],
   "source": [
    "#NN with classification layer for features with stimuli label \n",
    "class EEGUserClassifier(nn.Module):\n",
    "    def __init__(self, input_dim, n_users):\n",
    "        super().__init__()\n",
    "        self.net = nn.Sequential(\n",
    "            nn.Linear(input_dim, 128),\n",
    "            nn.ReLU(),\n",
    "            nn.Dropout(0.3),\n",
    "            nn.Linear(128, n_users)\n",
    "        )\n",
    "\n",
    "    def forward(self, x):\n",
    "        return self.net(x)"
   ]
  },
  {
   "cell_type": "code",
   "execution_count": null,
   "id": "864a9740",
   "metadata": {},
   "outputs": [],
   "source": [
    "#Check if the system has a GPU\n",
    "cuda = torch.cuda.is_available()\n",
    "device = \"cuda\" if cuda else \"cpu\"\n",
    "if cuda:\n",
    "    torch.backends.cudnn.benchmark = True "
   ]
  },
  {
   "cell_type": "code",
   "execution_count": null,
   "id": "af05768f",
   "metadata": {},
   "outputs": [],
   "source": [
    "#Training model for both Classifiers \n",
    "def train_classifier(model, train_loader, n_epochs = 10, lr = 1e-3, device = \"cpu\"):\n",
    "    model = model.to(device)\n",
    "    criterion = nn.CrossEntropyLoss() #loss for classification\n",
    "    optimizer = optim.Adam(model.parameters(), lr = lr) #learning rate(weight updates)\n",
    "\n",
    "    for epoch in range(n_epochs):\n",
    "        model.train()\n",
    "        total_loss, correct, total = 0, 0, 0\n",
    "\n",
    "        for x_batch, y_batch in train_loader:\n",
    "            x_batch, y_batch = x_batch.to(device), y_batch.to(device)\n",
    "\n",
    "            optimizer.zero_grad()\n",
    "            outputs = model(x_batch)\n",
    "            loss = criterion(outputs, y_batch)\n",
    "            loss.backward()\n",
    "            optimizer.step()\n",
    "\n",
    "            total_loss += loss.item()\n",
    "            preds = outputs.argmax(dim = 1)\n",
    "            correct += (preds == y_batch).sum().item()\n",
    "            total += y_batch.size(0)\n",
    "\n",
    "        acc = correct / total\n",
    "        print(f\"Epoch {epoch+1}/{n_epochs} | Loss={total_loss:.4f} | Acc={acc:.4f}\")\n",
    "\n",
    "    return model"
   ]
  },
  {
   "cell_type": "code",
   "execution_count": null,
   "id": "e61c482e",
   "metadata": {},
   "outputs": [],
   "source": [
    "#Get the features and the user_ids (plus the stimuli sequence to use later)\n",
    "features_1 = []\n",
    "stimuli_1 = []\n",
    "user_ids_1 = []\n",
    "for info in all_data.values(): \n",
    "    if info[\"extraction_model\"] == 1:\n",
    "        features_1.append(np.array(info[\"features\"]))\n",
    "        stimuli_1.append(np.array(info[\"stimuli_sequence\"]))\n",
    "        user_ids_1.append(info[\"user_id\"])\n",
    "\n",
    "#Now for the second model\n",
    "features_2 = []\n",
    "stimuli_2 = []\n",
    "user_ids_2 = []\n",
    "for info in all_data.values(): \n",
    "    if info[\"extraction_model\"] == 2:\n",
    "        features_2.append(np.array(info[\"features\"]))\n",
    "        stimuli_2.append(np.array(info[\"stimuli_sequence\"]))\n",
    "        user_ids_2.append(info[\"user_id\"])"
   ]
  },
  {
   "cell_type": "code",
   "execution_count": null,
   "id": "c0fbc617",
   "metadata": {},
   "outputs": [],
   "source": [
    "#Only features Datasets\n",
    "x_1 = torch.tensor(np.vstack(features_1), dtype = torch.float32)\n",
    "y_1 = torch.tensor(np.hstack(user_ids_1), dtype = torch.long)\n",
    "\n",
    "x_2 = torch.tensor(np.vstack(features_2), dtype = torch.float32)\n",
    "y_2 = torch.tensor(np.hstack(user_ids_2), dtype = torch.long)\n",
    "\n",
    "dataset_1 = TensorDataset(x_1, y_1)\n",
    "loader_1 = DataLoader(dataset_1, batch_size = 32, shuffle = True)\n",
    "\n",
    "dataset_2 = TensorDataset(x_2, y_2)\n",
    "loader_2 = DataLoader(dataset_2, batch_size = 32, shuffle = True)"
   ]
  },
  {
   "cell_type": "code",
   "execution_count": null,
   "id": "7e02bf98",
   "metadata": {},
   "outputs": [],
   "source": [
    "#Train the feature-only model\n",
    "model1 = UserClassifier(x_1.shape[1], len(torch.unique(y_1)))\n",
    "trained_model1 = train_classifier(model1, loader_1, n_epochs = 10)\n",
    "\n",
    "model2 = UserClassifier(x_2.shape[1], len(torch.unique(y_2)))\n",
    "trained_model1 = train_classifier(model2, loader_2, n_epochs = 10)"
   ]
  },
  {
   "cell_type": "code",
   "execution_count": null,
   "id": "d920be37",
   "metadata": {},
   "outputs": [],
   "source": [
    "#Add the stimuli labels to each feature with OneHotEncoder\n",
    "stimuli_1 = np.hstack(stimuli_1)\n",
    "stimuli_2 = np.hstack(stimuli_2)\n",
    "\n",
    "stimuli_1 = stimuli_1.reshape(-1,1)\n",
    "stimuli_2 = stimuli_2.reshape(-1,1)\n",
    "\n",
    "encoder = OneHotEncoder(sparse_output = False)\n",
    "stimuli_1 = encoder.fit_transform(stimuli_1)\n",
    "stimuli_2 = encoder.fit_transform(stimuli_2)\n",
    "\n",
    "#Add the encoded stimuli labels to the corresponding feature\n",
    "features_1 = np.hstack([features_1, stimuli_1])\n",
    "features_2 = np.hstack([features_2, stimuli_2])"
   ]
  },
  {
   "cell_type": "code",
   "execution_count": null,
   "id": "e67bc071",
   "metadata": {},
   "outputs": [],
   "source": [
    "\n",
    "x_1 = torch.tensor(np.vstack(features_1), dtype = torch.float32)\n",
    "y_1 = torch.tensor(np.hstack(user_ids_1), dtype = torch.long)\n",
    "\n",
    "x_2 = torch.tensor(np.vstack(features_2), dtype = torch.float32)\n",
    "y_2 = torch.tensor(np.hstack(user_ids_2), dtype = torch.long)\n",
    "\n",
    "dataset_1 = TensorDataset(x_1, y_1)\n",
    "loader_1 = DataLoader(dataset_1, batch_size = 32, shuffle = True)\n",
    "\n",
    "dataset_2 = TensorDataset(x_2, y_2)\n",
    "loader_2 = DataLoader(dataset_2, batch_size = 32, shuffle = True)"
   ]
  },
  {
   "cell_type": "code",
   "execution_count": null,
   "id": "54cbabee",
   "metadata": {},
   "outputs": [],
   "source": [
    "#Train the feature-label model\n",
    "model3 = EEGUserClassifier(x_1.shape[1], len(torch.unique(y_1)))\n",
    "trained_model3 = train_classifier(model3, loader_1, n_epochs = 10)\n",
    "\n",
    "model4 = EEGUserClassifier(x_2.shape[1], len(torch.unique(y_2)))\n",
    "trained_model4 = train_classifier(model4, loader_2, n_epochs = 10)"
   ]
  },
  {
   "cell_type": "markdown",
   "id": "636eba4e",
   "metadata": {},
   "source": [
    "Save all the models"
   ]
  },
  {
   "cell_type": "code",
   "execution_count": null,
   "id": "54ff10a4",
   "metadata": {},
   "outputs": [],
   "source": [
    "torch.save(model1.state_dict(), \"user_classifier_1.pth\")\n",
    "torch.save(model2.state_dict(), \"user_classifier_2.pth\")\n",
    "torch.save(model3.state_dict(), \"user_classifier_w_labels_1.pth\")\n",
    "torch.save(model4.state_dict(), \"user_classifier_w_labels_2.pth\")"
   ]
  }
 ],
 "metadata": {
  "kernelspec": {
   "display_name": "Python 3",
   "language": "python",
   "name": "python3"
  },
  "language_info": {
   "codemirror_mode": {
    "name": "ipython",
    "version": 3
   },
   "file_extension": ".py",
   "mimetype": "text/x-python",
   "name": "python",
   "nbconvert_exporter": "python",
   "pygments_lexer": "ipython3",
   "version": "3.13.6"
  }
 },
 "nbformat": 4,
 "nbformat_minor": 5
}
