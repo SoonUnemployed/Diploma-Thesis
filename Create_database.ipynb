{
 "cells": [
  {
   "cell_type": "code",
   "execution_count": null,
   "id": "2742fa1c",
   "metadata": {},
   "outputs": [],
   "source": [
    "import numpy as np\n",
    "import pickle\n",
    "from sklearn.preprocessing import OneHotEncoder\n",
    "import torch\n",
    "from create_database_functions import *"
   ]
  },
  {
   "cell_type": "code",
   "execution_count": null,
   "id": "050d17c0",
   "metadata": {},
   "outputs": [],
   "source": [
    "file_path = \"C:/Users/Iraklis Kolokas/Desktop/Thesis/Features\""
   ]
  },
  {
   "cell_type": "markdown",
   "id": "cf25206a",
   "metadata": {},
   "source": [
    "Get features"
   ]
  },
  {
   "cell_type": "code",
   "execution_count": null,
   "id": "c345dafc",
   "metadata": {},
   "outputs": [],
   "source": [
    "all_data = get_files(file_path)"
   ]
  },
  {
   "cell_type": "markdown",
   "id": "3bf13875",
   "metadata": {},
   "source": [
    "Cosine Similarity"
   ]
  },
  {
   "cell_type": "markdown",
   "id": "623d3d71",
   "metadata": {},
   "source": [
    "Averages between each session and for features from the same acoustic stimuli"
   ]
  },
  {
   "cell_type": "code",
   "execution_count": null,
   "id": "edaeb5f6",
   "metadata": {},
   "outputs": [],
   "source": [
    "av_per_user, each_freq_av = get_averages(all_data)"
   ]
  },
  {
   "cell_type": "markdown",
   "id": "9baf897f",
   "metadata": {},
   "source": [
    "Neural Network"
   ]
  },
  {
   "cell_type": "code",
   "execution_count": null,
   "id": "864a9740",
   "metadata": {},
   "outputs": [],
   "source": [
    "#Check if the system has a GPU\n",
    "cuda = torch.cuda.is_available()\n",
    "device = \"cuda\" if cuda else \"cpu\"\n",
    "if cuda:\n",
    "    torch.backends.cudnn.benchmark = True "
   ]
  },
  {
   "cell_type": "code",
   "execution_count": null,
   "id": "f622cd45",
   "metadata": {},
   "outputs": [],
   "source": [
    "features_1, stimuli_1, user_ids_1 = make_lists(all_data, 1)\n",
    "features_2, stimuli_2, user_ids_2 = make_lists(all_data, 2)"
   ]
  },
  {
   "cell_type": "code",
   "execution_count": null,
   "id": "9380af2c",
   "metadata": {},
   "outputs": [],
   "source": [
    "x_1, x_2, y_1, y_2, loader_1, loader_2 = make_databases(features_1, features_2, user_ids_1, user_ids_2)"
   ]
  },
  {
   "cell_type": "code",
   "execution_count": null,
   "id": "7e02bf98",
   "metadata": {},
   "outputs": [],
   "source": [
    "#Train the feature-only model\n",
    "model1 = UserClassifier(x_1.shape[1], len(torch.unique(y_1)))\n",
    "trained_model1 = train_classifier(model1, loader_1, n_epochs = 10, device)\n",
    "\n",
    "model2 = UserClassifier(x_2.shape[1], len(torch.unique(y_2)))\n",
    "trained_model2 = train_classifier(model2, loader_2, n_epochs = 10, device)"
   ]
  },
  {
   "cell_type": "code",
   "execution_count": null,
   "id": "d920be37",
   "metadata": {},
   "outputs": [],
   "source": [
    "#Add the stimuli labels to each feature with OneHotEncoder\n",
    "stimuli_1 = np.hstack(stimuli_1)\n",
    "stimuli_2 = np.hstack(stimuli_2)\n",
    "\n",
    "stimuli_1 = stimuli_1.reshape(-1,1)\n",
    "stimuli_2 = stimuli_2.reshape(-1,1)\n",
    "\n",
    "encoder = OneHotEncoder(sparse_output = False)\n",
    "stimuli_1 = encoder.fit_transform(stimuli_1)\n",
    "stimuli_2 = encoder.fit_transform(stimuli_2)\n",
    "\n",
    "#Add the encoded stimuli labels to the corresponding feature\n",
    "features_1 = np.hstack([features_1, stimuli_1])\n",
    "features_2 = np.hstack([features_2, stimuli_2])"
   ]
  },
  {
   "cell_type": "code",
   "execution_count": null,
   "id": "f07701c1",
   "metadata": {},
   "outputs": [],
   "source": [
    "x_1, x_2, y_1, y_2, loader_1, loader_2 = make_databases(features_1, features_2, user_ids_1, user_ids_2)"
   ]
  },
  {
   "cell_type": "code",
   "execution_count": null,
   "id": "54cbabee",
   "metadata": {},
   "outputs": [],
   "source": [
    "#Train the feature-label model\n",
    "model3 = EEGUserClassifier(x_1.shape[1], len(torch.unique(y_1)))\n",
    "trained_model3 = train_classifier(model3, loader_1, n_epochs = 10)\n",
    "\n",
    "model4 = EEGUserClassifier(x_2.shape[1], len(torch.unique(y_2)))\n",
    "trained_model4 = train_classifier(model4, loader_2, n_epochs = 10)"
   ]
  },
  {
   "cell_type": "markdown",
   "id": "636eba4e",
   "metadata": {},
   "source": [
    "Save all the models"
   ]
  },
  {
   "cell_type": "code",
   "execution_count": null,
   "id": "54ff10a4",
   "metadata": {},
   "outputs": [],
   "source": [
    "torch.save(trained_model1.state_dict(), \"C:/Users/Iraklis Kolokas/Desktop/Thesis/Databases/user_classifier_1.pth\")\n",
    "torch.save(trained_model2.state_dict(), \"C:/Users/Iraklis Kolokas/Desktop/Thesis/Databases/user_classifier_2.pth\")\n",
    "torch.save(trained_model3.state_dict(), \"C:/Users/Iraklis Kolokas/Desktop/Thesis/Databases/user_classifier_w_labels_1.pth\")\n",
    "torch.save(trained_model4.state_dict(), \"C:/Users/Iraklis Kolokas/Desktop/Thesis/Databases/user_classifier_w_labels_2.pth\")"
   ]
  },
  {
   "cell_type": "markdown",
   "id": "581fe32b",
   "metadata": {},
   "source": [
    "Save averages"
   ]
  },
  {
   "cell_type": "code",
   "execution_count": null,
   "id": "329f0334",
   "metadata": {},
   "outputs": [],
   "source": [
    "#Save as pickle file to preserve dictionary structure\n",
    "with open(\"C:/Users/Iraklis Kolokas/Desktop/Thesis/Databases/each_freq_av.pkl\" \"wb\") as f:\n",
    "    pickle.dump(each_freq_av, f)\n",
    "    \n",
    "with open(\"C:/Users/Iraklis Kolokas/Desktop/Thesis/Databases/av_per_user.pkl\" \"wb\") as f:\n",
    "    pickle.dump(av_per_user, f)"
   ]
  }
 ],
 "metadata": {
  "kernelspec": {
   "display_name": "Python 3",
   "language": "python",
   "name": "python3"
  },
  "language_info": {
   "codemirror_mode": {
    "name": "ipython",
    "version": 3
   },
   "file_extension": ".py",
   "mimetype": "text/x-python",
   "name": "python",
   "nbconvert_exporter": "python",
   "pygments_lexer": "ipython3",
   "version": "3.13.6"
  }
 },
 "nbformat": 4,
 "nbformat_minor": 5
}
