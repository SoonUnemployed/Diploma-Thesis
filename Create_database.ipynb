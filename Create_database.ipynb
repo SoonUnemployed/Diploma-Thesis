{
 "cells": [
  {
   "cell_type": "markdown",
   "id": "538ade08",
   "metadata": {
    "tags": [
     "papermill-error-cell-tag"
    ]
   },
   "source": [
    "<span style=\"color:red; font-family:Helvetica Neue, Helvetica, Arial, sans-serif; font-size:2em;\">An Exception was encountered at '<a href=\"#papermill-error-cell\">In [11]</a>'.</span>"
   ]
  },
  {
   "cell_type": "code",
   "execution_count": 1,
   "id": "2742fa1c",
   "metadata": {
    "execution": {
     "iopub.execute_input": "2025-09-09T18:46:58.463313Z",
     "iopub.status.busy": "2025-09-09T18:46:58.463083Z",
     "iopub.status.idle": "2025-09-09T18:47:00.461897Z",
     "shell.execute_reply": "2025-09-09T18:47:00.461455Z"
    },
    "papermill": {
     "duration": 2.00249,
     "end_time": "2025-09-09T18:47:00.462752",
     "exception": false,
     "start_time": "2025-09-09T18:46:58.460262",
     "status": "completed"
    },
    "tags": []
   },
   "outputs": [],
   "source": [
    "import numpy as np\n",
    "import pickle\n",
    "from sklearn.preprocessing import OneHotEncoder\n",
    "import torch\n",
    "from create_database_functions import *\n",
    "import json"
   ]
  },
  {
   "cell_type": "code",
   "execution_count": 2,
   "id": "050d17c0",
   "metadata": {
    "execution": {
     "iopub.execute_input": "2025-09-09T18:47:00.468450Z",
     "iopub.status.busy": "2025-09-09T18:47:00.468069Z",
     "iopub.status.idle": "2025-09-09T18:47:00.470274Z",
     "shell.execute_reply": "2025-09-09T18:47:00.469942Z"
    },
    "papermill": {
     "duration": 0.005299,
     "end_time": "2025-09-09T18:47:00.470930",
     "exception": false,
     "start_time": "2025-09-09T18:47:00.465631",
     "status": "completed"
    },
    "tags": []
   },
   "outputs": [],
   "source": [
    "file_path = \"C:/Users/Iraklis Kolokas/Desktop/Thesis/Features\""
   ]
  },
  {
   "cell_type": "markdown",
   "id": "cf25206a",
   "metadata": {
    "papermill": {
     "duration": 0.003006,
     "end_time": "2025-09-09T18:47:00.475633",
     "exception": false,
     "start_time": "2025-09-09T18:47:00.472627",
     "status": "completed"
    },
    "tags": []
   },
   "source": [
    "Get features"
   ]
  },
  {
   "cell_type": "code",
   "execution_count": 3,
   "id": "c345dafc",
   "metadata": {
    "execution": {
     "iopub.execute_input": "2025-09-09T18:47:00.480588Z",
     "iopub.status.busy": "2025-09-09T18:47:00.480353Z",
     "iopub.status.idle": "2025-09-09T18:47:01.336316Z",
     "shell.execute_reply": "2025-09-09T18:47:01.335882Z"
    },
    "papermill": {
     "duration": 0.859464,
     "end_time": "2025-09-09T18:47:01.337107",
     "exception": false,
     "start_time": "2025-09-09T18:47:00.477643",
     "status": "completed"
    },
    "tags": []
   },
   "outputs": [],
   "source": [
    "all_data = get_files(file_path)"
   ]
  },
  {
   "cell_type": "markdown",
   "id": "3bf13875",
   "metadata": {
    "papermill": {
     "duration": 0.003211,
     "end_time": "2025-09-09T18:47:01.342672",
     "exception": false,
     "start_time": "2025-09-09T18:47:01.339461",
     "status": "completed"
    },
    "tags": []
   },
   "source": [
    "Cosine Similarity"
   ]
  },
  {
   "cell_type": "markdown",
   "id": "623d3d71",
   "metadata": {
    "papermill": {
     "duration": 0.002045,
     "end_time": "2025-09-09T18:47:01.346763",
     "exception": false,
     "start_time": "2025-09-09T18:47:01.344718",
     "status": "completed"
    },
    "tags": []
   },
   "source": [
    "Averages between each session and for features from the same acoustic stimuli"
   ]
  },
  {
   "cell_type": "code",
   "execution_count": 4,
   "id": "edaeb5f6",
   "metadata": {
    "execution": {
     "iopub.execute_input": "2025-09-09T18:47:01.350953Z",
     "iopub.status.busy": "2025-09-09T18:47:01.350745Z",
     "iopub.status.idle": "2025-09-09T18:47:01.353649Z",
     "shell.execute_reply": "2025-09-09T18:47:01.353221Z"
    },
    "papermill": {
     "duration": 0.005797,
     "end_time": "2025-09-09T18:47:01.354264",
     "exception": false,
     "start_time": "2025-09-09T18:47:01.348467",
     "status": "completed"
    },
    "tags": []
   },
   "outputs": [],
   "source": [
    "av_per_user, each_freq_av = get_averages(all_data)"
   ]
  },
  {
   "cell_type": "markdown",
   "id": "9baf897f",
   "metadata": {
    "papermill": {
     "duration": 0.002749,
     "end_time": "2025-09-09T18:47:01.359025",
     "exception": false,
     "start_time": "2025-09-09T18:47:01.356276",
     "status": "completed"
    },
    "tags": []
   },
   "source": [
    "Neural Network"
   ]
  },
  {
   "cell_type": "code",
   "execution_count": 5,
   "id": "864a9740",
   "metadata": {
    "execution": {
     "iopub.execute_input": "2025-09-09T18:47:01.364099Z",
     "iopub.status.busy": "2025-09-09T18:47:01.363857Z",
     "iopub.status.idle": "2025-09-09T18:47:01.366835Z",
     "shell.execute_reply": "2025-09-09T18:47:01.366298Z"
    },
    "papermill": {
     "duration": 0.006593,
     "end_time": "2025-09-09T18:47:01.367767",
     "exception": false,
     "start_time": "2025-09-09T18:47:01.361174",
     "status": "completed"
    },
    "tags": []
   },
   "outputs": [],
   "source": [
    "#Check if the system has a GPU\n",
    "#cuda = torch.cuda.is_available()\n",
    "#device = \"cuda\" if cuda else \"cpu\"\n",
    "#if cuda:\n",
    "    #torch.backends.cudnn.benchmark = True "
   ]
  },
  {
   "cell_type": "code",
   "execution_count": 6,
   "id": "f622cd45",
   "metadata": {
    "execution": {
     "iopub.execute_input": "2025-09-09T18:47:01.373551Z",
     "iopub.status.busy": "2025-09-09T18:47:01.373308Z",
     "iopub.status.idle": "2025-09-09T18:47:01.379457Z",
     "shell.execute_reply": "2025-09-09T18:47:01.378925Z"
    },
    "papermill": {
     "duration": 0.010413,
     "end_time": "2025-09-09T18:47:01.380373",
     "exception": false,
     "start_time": "2025-09-09T18:47:01.369960",
     "status": "completed"
    },
    "tags": []
   },
   "outputs": [],
   "source": [
    "features_1, stimuli_1, user_ids_1 = make_lists(all_data, 1)\n",
    "features_2, stimuli_2, user_ids_2 = make_lists(all_data, 2)"
   ]
  },
  {
   "cell_type": "code",
   "execution_count": 7,
   "id": "9380af2c",
   "metadata": {
    "execution": {
     "iopub.execute_input": "2025-09-09T18:47:01.385670Z",
     "iopub.status.busy": "2025-09-09T18:47:01.385448Z",
     "iopub.status.idle": "2025-09-09T18:47:01.395678Z",
     "shell.execute_reply": "2025-09-09T18:47:01.394979Z"
    },
    "papermill": {
     "duration": 0.014041,
     "end_time": "2025-09-09T18:47:01.396593",
     "exception": false,
     "start_time": "2025-09-09T18:47:01.382552",
     "status": "completed"
    },
    "tags": []
   },
   "outputs": [],
   "source": [
    "x_1, x_2, y_1, y_2 = make_databases(features_1, features_2, user_ids_1, user_ids_2)"
   ]
  },
  {
   "cell_type": "code",
   "execution_count": 8,
   "id": "7e02bf98",
   "metadata": {
    "execution": {
     "iopub.execute_input": "2025-09-09T18:47:01.402118Z",
     "iopub.status.busy": "2025-09-09T18:47:01.401739Z",
     "iopub.status.idle": "2025-09-09T18:47:01.408197Z",
     "shell.execute_reply": "2025-09-09T18:47:01.407274Z"
    },
    "papermill": {
     "duration": 0.01078,
     "end_time": "2025-09-09T18:47:01.409418",
     "exception": false,
     "start_time": "2025-09-09T18:47:01.398638",
     "status": "completed"
    },
    "tags": []
   },
   "outputs": [],
   "source": [
    "#Remap labels to fit the training\n",
    "unique_labels = np.unique(y_1)\n",
    "label2idx = {label: idx for idx, label in enumerate(unique_labels)}  # Original to index\n",
    "idx2label = {int(k): int(v) for k, v in label2idx.items()}\n",
    "\n",
    "y_1_remapped = np.array([label2idx[label.item()] for label in y_1])\n",
    "y_2_remapped = np.array([label2idx[label.item()] for label in y_2])\n",
    "y_1_remapped = torch.tensor(y_1_remapped,dtype = torch.long)\n",
    "y_2_remapped = torch.tensor(y_2_remapped,dtype = torch.long)\n",
    "\n",
    "#Save the mapping for later use\n",
    "with open(\"C:/Users/Iraklis Kolokas/Desktop/Thesis/Databases/label_mapping.json\", \"w\") as f:\n",
    "    json.dump(idx2label, f)"
   ]
  },
  {
   "cell_type": "code",
   "execution_count": 9,
   "id": "60a26908",
   "metadata": {
    "execution": {
     "iopub.execute_input": "2025-09-09T18:47:01.414904Z",
     "iopub.status.busy": "2025-09-09T18:47:01.414535Z",
     "iopub.status.idle": "2025-09-09T18:47:01.417983Z",
     "shell.execute_reply": "2025-09-09T18:47:01.417502Z"
    },
    "papermill": {
     "duration": 0.007447,
     "end_time": "2025-09-09T18:47:01.419013",
     "exception": false,
     "start_time": "2025-09-09T18:47:01.411566",
     "status": "completed"
    },
    "tags": []
   },
   "outputs": [],
   "source": [
    "dataset_1 = TensorDataset(x_1, y_1_remapped)\n",
    "loader_1 = DataLoader(dataset_1, batch_size = 32, shuffle = True)\n",
    "\n",
    "dataset_2 = TensorDataset(x_2, y_2_remapped)\n",
    "loader_2 = DataLoader(dataset_2, batch_size = 32, shuffle = True)"
   ]
  },
  {
   "cell_type": "code",
   "execution_count": 10,
   "id": "414ef1d4",
   "metadata": {
    "execution": {
     "iopub.execute_input": "2025-09-09T18:47:01.428915Z",
     "iopub.status.busy": "2025-09-09T18:47:01.428592Z",
     "iopub.status.idle": "2025-09-09T18:47:01.433067Z",
     "shell.execute_reply": "2025-09-09T18:47:01.432117Z"
    },
    "papermill": {
     "duration": 0.009938,
     "end_time": "2025-09-09T18:47:01.434262",
     "exception": false,
     "start_time": "2025-09-09T18:47:01.424324",
     "status": "completed"
    },
    "tags": []
   },
   "outputs": [
    {
     "name": "stdout",
     "output_type": "stream",
     "text": [
      "torch.Size([570, 24, 1, 89])\n",
      "torch.Size([570, 20, 64])\n"
     ]
    }
   ],
   "source": [
    "print(x_1.shape)\n",
    "print(x_2.shape)\n",
    "#print(y_2_remapped.shape)"
   ]
  },
  {
   "cell_type": "markdown",
   "id": "e54a9be3",
   "metadata": {
    "tags": [
     "papermill-error-cell-tag"
    ]
   },
   "source": [
    "<span id=\"papermill-error-cell\" style=\"color:red; font-family:Helvetica Neue, Helvetica, Arial, sans-serif; font-size:2em;\">Execution using papermill encountered an exception here and stopped:</span>"
   ]
  },
  {
   "cell_type": "code",
   "execution_count": 11,
   "id": "5d04ec5c",
   "metadata": {
    "execution": {
     "iopub.execute_input": "2025-09-09T18:47:01.440972Z",
     "iopub.status.busy": "2025-09-09T18:47:01.440678Z",
     "iopub.status.idle": "2025-09-09T18:47:02.498217Z",
     "shell.execute_reply": "2025-09-09T18:47:02.497514Z"
    },
    "papermill": {
     "duration": 1.061801,
     "end_time": "2025-09-09T18:47:02.498901",
     "exception": true,
     "start_time": "2025-09-09T18:47:01.437100",
     "status": "failed"
    },
    "tags": []
   },
   "outputs": [
    {
     "ename": "RuntimeError",
     "evalue": "mat1 and mat2 shapes cannot be multiplied (768x89 and 24x12)",
     "output_type": "error",
     "traceback": [
      "\u001b[31m---------------------------------------------------------------------------\u001b[39m",
      "\u001b[31mRuntimeError\u001b[39m                              Traceback (most recent call last)",
      "\u001b[36mCell\u001b[39m\u001b[36m \u001b[39m\u001b[32mIn[11]\u001b[39m\u001b[32m, line 3\u001b[39m\n\u001b[32m      1\u001b[39m \u001b[38;5;66;03m#Train the feature-only model\u001b[39;00m\n\u001b[32m      2\u001b[39m model1 = UserClassifier(x_1.shape[\u001b[32m1\u001b[39m], \u001b[38;5;28mlen\u001b[39m(torch.unique(y_1)))\n\u001b[32m----> \u001b[39m\u001b[32m3\u001b[39m trained_model1 = \u001b[43mtrain_classifier\u001b[49m\u001b[43m(\u001b[49m\u001b[43mmodel1\u001b[49m\u001b[43m,\u001b[49m\u001b[43m \u001b[49m\u001b[43mloader_1\u001b[49m\u001b[43m,\u001b[49m\u001b[43m \u001b[49m\u001b[43mn_epochs\u001b[49m\u001b[43m \u001b[49m\u001b[43m=\u001b[49m\u001b[43m \u001b[49m\u001b[32;43m10\u001b[39;49m\u001b[43m)\u001b[49m\u001b[38;5;66;03m#, device = device)\u001b[39;00m\n\u001b[32m      5\u001b[39m model2 = UserClassifier(x_2.shape[\u001b[32m1\u001b[39m], \u001b[38;5;28mlen\u001b[39m(torch.unique(y_2)))\n\u001b[32m      6\u001b[39m trained_model2 = train_classifier(model2, loader_2, n_epochs = \u001b[32m10\u001b[39m)\u001b[38;5;66;03m#, device = device)\u001b[39;00m\n",
      "\u001b[36mFile \u001b[39m\u001b[32mc:\\Users\\Iraklis Kolokas\\Documents\\GitHub\\Diploma-Thesis\\create_database_functions.py:127\u001b[39m, in \u001b[36mtrain_classifier\u001b[39m\u001b[34m(model, train_loader, n_epochs, lr, device)\u001b[39m\n\u001b[32m    124\u001b[39m x_batch, y_batch = x_batch.to(device), y_batch.to(device)\n\u001b[32m    126\u001b[39m optimizer.zero_grad()\n\u001b[32m--> \u001b[39m\u001b[32m127\u001b[39m outputs = \u001b[43mmodel\u001b[49m\u001b[43m(\u001b[49m\u001b[43mx_batch\u001b[49m\u001b[43m)\u001b[49m\n\u001b[32m    128\u001b[39m loss = criterion(outputs, y_batch)\n\u001b[32m    129\u001b[39m loss.backward()\n",
      "\u001b[36mFile \u001b[39m\u001b[32mc:\\Users\\Iraklis Kolokas\\AppData\\Local\\Programs\\Python\\Python313\\Lib\\site-packages\\torch\\nn\\modules\\module.py:1773\u001b[39m, in \u001b[36mModule._wrapped_call_impl\u001b[39m\u001b[34m(self, *args, **kwargs)\u001b[39m\n\u001b[32m   1771\u001b[39m     \u001b[38;5;28;01mreturn\u001b[39;00m \u001b[38;5;28mself\u001b[39m._compiled_call_impl(*args, **kwargs)  \u001b[38;5;66;03m# type: ignore[misc]\u001b[39;00m\n\u001b[32m   1772\u001b[39m \u001b[38;5;28;01melse\u001b[39;00m:\n\u001b[32m-> \u001b[39m\u001b[32m1773\u001b[39m     \u001b[38;5;28;01mreturn\u001b[39;00m \u001b[38;5;28;43mself\u001b[39;49m\u001b[43m.\u001b[49m\u001b[43m_call_impl\u001b[49m\u001b[43m(\u001b[49m\u001b[43m*\u001b[49m\u001b[43margs\u001b[49m\u001b[43m,\u001b[49m\u001b[43m \u001b[49m\u001b[43m*\u001b[49m\u001b[43m*\u001b[49m\u001b[43mkwargs\u001b[49m\u001b[43m)\u001b[49m\n",
      "\u001b[36mFile \u001b[39m\u001b[32mc:\\Users\\Iraklis Kolokas\\AppData\\Local\\Programs\\Python\\Python313\\Lib\\site-packages\\torch\\nn\\modules\\module.py:1784\u001b[39m, in \u001b[36mModule._call_impl\u001b[39m\u001b[34m(self, *args, **kwargs)\u001b[39m\n\u001b[32m   1779\u001b[39m \u001b[38;5;66;03m# If we don't have any hooks, we want to skip the rest of the logic in\u001b[39;00m\n\u001b[32m   1780\u001b[39m \u001b[38;5;66;03m# this function, and just call forward.\u001b[39;00m\n\u001b[32m   1781\u001b[39m \u001b[38;5;28;01mif\u001b[39;00m \u001b[38;5;129;01mnot\u001b[39;00m (\u001b[38;5;28mself\u001b[39m._backward_hooks \u001b[38;5;129;01mor\u001b[39;00m \u001b[38;5;28mself\u001b[39m._backward_pre_hooks \u001b[38;5;129;01mor\u001b[39;00m \u001b[38;5;28mself\u001b[39m._forward_hooks \u001b[38;5;129;01mor\u001b[39;00m \u001b[38;5;28mself\u001b[39m._forward_pre_hooks\n\u001b[32m   1782\u001b[39m         \u001b[38;5;129;01mor\u001b[39;00m _global_backward_pre_hooks \u001b[38;5;129;01mor\u001b[39;00m _global_backward_hooks\n\u001b[32m   1783\u001b[39m         \u001b[38;5;129;01mor\u001b[39;00m _global_forward_hooks \u001b[38;5;129;01mor\u001b[39;00m _global_forward_pre_hooks):\n\u001b[32m-> \u001b[39m\u001b[32m1784\u001b[39m     \u001b[38;5;28;01mreturn\u001b[39;00m \u001b[43mforward_call\u001b[49m\u001b[43m(\u001b[49m\u001b[43m*\u001b[49m\u001b[43margs\u001b[49m\u001b[43m,\u001b[49m\u001b[43m \u001b[49m\u001b[43m*\u001b[49m\u001b[43m*\u001b[49m\u001b[43mkwargs\u001b[49m\u001b[43m)\u001b[49m\n\u001b[32m   1786\u001b[39m result = \u001b[38;5;28;01mNone\u001b[39;00m\n\u001b[32m   1787\u001b[39m called_always_called_hooks = \u001b[38;5;28mset\u001b[39m()\n",
      "\u001b[36mFile \u001b[39m\u001b[32mc:\\Users\\Iraklis Kolokas\\Documents\\GitHub\\Diploma-Thesis\\create_database_functions.py:97\u001b[39m, in \u001b[36mUserClassifier.forward\u001b[39m\u001b[34m(self, x)\u001b[39m\n\u001b[32m     96\u001b[39m \u001b[38;5;28;01mdef\u001b[39;00m\u001b[38;5;250m \u001b[39m\u001b[34mforward\u001b[39m(\u001b[38;5;28mself\u001b[39m, x):\n\u001b[32m---> \u001b[39m\u001b[32m97\u001b[39m     \u001b[38;5;28;01mreturn\u001b[39;00m \u001b[38;5;28;43mself\u001b[39;49m\u001b[43m.\u001b[49m\u001b[43mfc\u001b[49m\u001b[43m(\u001b[49m\u001b[43mx\u001b[49m\u001b[43m)\u001b[49m\n",
      "\u001b[36mFile \u001b[39m\u001b[32mc:\\Users\\Iraklis Kolokas\\AppData\\Local\\Programs\\Python\\Python313\\Lib\\site-packages\\torch\\nn\\modules\\module.py:1773\u001b[39m, in \u001b[36mModule._wrapped_call_impl\u001b[39m\u001b[34m(self, *args, **kwargs)\u001b[39m\n\u001b[32m   1771\u001b[39m     \u001b[38;5;28;01mreturn\u001b[39;00m \u001b[38;5;28mself\u001b[39m._compiled_call_impl(*args, **kwargs)  \u001b[38;5;66;03m# type: ignore[misc]\u001b[39;00m\n\u001b[32m   1772\u001b[39m \u001b[38;5;28;01melse\u001b[39;00m:\n\u001b[32m-> \u001b[39m\u001b[32m1773\u001b[39m     \u001b[38;5;28;01mreturn\u001b[39;00m \u001b[38;5;28;43mself\u001b[39;49m\u001b[43m.\u001b[49m\u001b[43m_call_impl\u001b[49m\u001b[43m(\u001b[49m\u001b[43m*\u001b[49m\u001b[43margs\u001b[49m\u001b[43m,\u001b[49m\u001b[43m \u001b[49m\u001b[43m*\u001b[49m\u001b[43m*\u001b[49m\u001b[43mkwargs\u001b[49m\u001b[43m)\u001b[49m\n",
      "\u001b[36mFile \u001b[39m\u001b[32mc:\\Users\\Iraklis Kolokas\\AppData\\Local\\Programs\\Python\\Python313\\Lib\\site-packages\\torch\\nn\\modules\\module.py:1784\u001b[39m, in \u001b[36mModule._call_impl\u001b[39m\u001b[34m(self, *args, **kwargs)\u001b[39m\n\u001b[32m   1779\u001b[39m \u001b[38;5;66;03m# If we don't have any hooks, we want to skip the rest of the logic in\u001b[39;00m\n\u001b[32m   1780\u001b[39m \u001b[38;5;66;03m# this function, and just call forward.\u001b[39;00m\n\u001b[32m   1781\u001b[39m \u001b[38;5;28;01mif\u001b[39;00m \u001b[38;5;129;01mnot\u001b[39;00m (\u001b[38;5;28mself\u001b[39m._backward_hooks \u001b[38;5;129;01mor\u001b[39;00m \u001b[38;5;28mself\u001b[39m._backward_pre_hooks \u001b[38;5;129;01mor\u001b[39;00m \u001b[38;5;28mself\u001b[39m._forward_hooks \u001b[38;5;129;01mor\u001b[39;00m \u001b[38;5;28mself\u001b[39m._forward_pre_hooks\n\u001b[32m   1782\u001b[39m         \u001b[38;5;129;01mor\u001b[39;00m _global_backward_pre_hooks \u001b[38;5;129;01mor\u001b[39;00m _global_backward_hooks\n\u001b[32m   1783\u001b[39m         \u001b[38;5;129;01mor\u001b[39;00m _global_forward_hooks \u001b[38;5;129;01mor\u001b[39;00m _global_forward_pre_hooks):\n\u001b[32m-> \u001b[39m\u001b[32m1784\u001b[39m     \u001b[38;5;28;01mreturn\u001b[39;00m \u001b[43mforward_call\u001b[49m\u001b[43m(\u001b[49m\u001b[43m*\u001b[49m\u001b[43margs\u001b[49m\u001b[43m,\u001b[49m\u001b[43m \u001b[49m\u001b[43m*\u001b[49m\u001b[43m*\u001b[49m\u001b[43mkwargs\u001b[49m\u001b[43m)\u001b[49m\n\u001b[32m   1786\u001b[39m result = \u001b[38;5;28;01mNone\u001b[39;00m\n\u001b[32m   1787\u001b[39m called_always_called_hooks = \u001b[38;5;28mset\u001b[39m()\n",
      "\u001b[36mFile \u001b[39m\u001b[32mc:\\Users\\Iraklis Kolokas\\AppData\\Local\\Programs\\Python\\Python313\\Lib\\site-packages\\torch\\nn\\modules\\linear.py:125\u001b[39m, in \u001b[36mLinear.forward\u001b[39m\u001b[34m(self, input)\u001b[39m\n\u001b[32m    124\u001b[39m \u001b[38;5;28;01mdef\u001b[39;00m\u001b[38;5;250m \u001b[39m\u001b[34mforward\u001b[39m(\u001b[38;5;28mself\u001b[39m, \u001b[38;5;28minput\u001b[39m: Tensor) -> Tensor:\n\u001b[32m--> \u001b[39m\u001b[32m125\u001b[39m     \u001b[38;5;28;01mreturn\u001b[39;00m \u001b[43mF\u001b[49m\u001b[43m.\u001b[49m\u001b[43mlinear\u001b[49m\u001b[43m(\u001b[49m\u001b[38;5;28;43minput\u001b[39;49m\u001b[43m,\u001b[49m\u001b[43m \u001b[49m\u001b[38;5;28;43mself\u001b[39;49m\u001b[43m.\u001b[49m\u001b[43mweight\u001b[49m\u001b[43m,\u001b[49m\u001b[43m \u001b[49m\u001b[38;5;28;43mself\u001b[39;49m\u001b[43m.\u001b[49m\u001b[43mbias\u001b[49m\u001b[43m)\u001b[49m\n",
      "\u001b[31mRuntimeError\u001b[39m: mat1 and mat2 shapes cannot be multiplied (768x89 and 24x12)"
     ]
    }
   ],
   "source": [
    "#Train the feature-only model\n",
    "model1 = UserClassifier(x_1.shape[1], len(torch.unique(y_1)))\n",
    "trained_model1 = train_classifier(model1, loader_1, n_epochs = 10)#, device = device)\n",
    "\n",
    "model2 = UserClassifier(x_2.shape[1], len(torch.unique(y_2)))\n",
    "trained_model2 = train_classifier(model2, loader_2, n_epochs = 10)#, device = device)"
   ]
  },
  {
   "cell_type": "code",
   "execution_count": null,
   "id": "d920be37",
   "metadata": {
    "papermill": {
     "duration": null,
     "end_time": null,
     "exception": null,
     "start_time": null,
     "status": "pending"
    },
    "tags": []
   },
   "outputs": [],
   "source": [
    "#Add the stimuli labels to each feature with OneHotEncoder\n",
    "stimuli_1 = np.hstack(stimuli_1)\n",
    "stimuli_2 = np.hstack(stimuli_2)\n",
    "\n",
    "stimuli_1 = stimuli_1.reshape(-1,1)\n",
    "stimuli_2 = stimuli_2.reshape(-1,1)\n",
    "\n",
    "encoder = OneHotEncoder(sparse_output = False)\n",
    "stimuli_1 = encoder.fit_transform(stimuli_1)\n",
    "stimuli_2 = encoder.fit_transform(stimuli_2)\n",
    "\n",
    "#Add the encoded stimuli labels to the corresponding feature\n",
    "features_1 = np.hstack([features_1, stimuli_1])\n",
    "features_2 = np.hstack([features_2, stimuli_2])"
   ]
  },
  {
   "cell_type": "code",
   "execution_count": null,
   "id": "f07701c1",
   "metadata": {
    "papermill": {
     "duration": null,
     "end_time": null,
     "exception": null,
     "start_time": null,
     "status": "pending"
    },
    "tags": []
   },
   "outputs": [],
   "source": [
    "x_1, x_2, y_1, y_2 = make_databases(features_1, features_2, user_ids_1, user_ids_2)"
   ]
  },
  {
   "cell_type": "code",
   "execution_count": null,
   "id": "8e07b7c9",
   "metadata": {
    "papermill": {
     "duration": null,
     "end_time": null,
     "exception": null,
     "start_time": null,
     "status": "pending"
    },
    "tags": []
   },
   "outputs": [],
   "source": [
    "y_1_remapped = np.array([label2idx[label.item()] for label in y_1])\n",
    "y_2_remapped = np.array([label2idx[label.item()] for label in y_2])\n",
    "dataset_1 = TensorDataset(x_1, y_1_remapped)\n",
    "loader_1 = DataLoader(dataset_1, batch_size = 32, shuffle = True)\n",
    "\n",
    "dataset_2 = TensorDataset(x_2, y_2_remapped)\n",
    "loader_2 = DataLoader(dataset_2, batch_size = 32, shuffle = True)"
   ]
  },
  {
   "cell_type": "code",
   "execution_count": null,
   "id": "54cbabee",
   "metadata": {
    "papermill": {
     "duration": null,
     "end_time": null,
     "exception": null,
     "start_time": null,
     "status": "pending"
    },
    "tags": []
   },
   "outputs": [],
   "source": [
    "#Train the feature-label model\n",
    "model3 = EEGUserClassifier(x_1.shape[1], len(torch.unique(y_1)))\n",
    "trained_model3 = train_classifier(model3, loader_1, n_epochs = 10)\n",
    "\n",
    "model4 = EEGUserClassifier(x_2.shape[1], len(torch.unique(y_2)))\n",
    "trained_model4 = train_classifier(model4, loader_2, n_epochs = 10)"
   ]
  },
  {
   "cell_type": "markdown",
   "id": "636eba4e",
   "metadata": {
    "papermill": {
     "duration": null,
     "end_time": null,
     "exception": null,
     "start_time": null,
     "status": "pending"
    },
    "tags": []
   },
   "source": [
    "Save all the models"
   ]
  },
  {
   "cell_type": "code",
   "execution_count": null,
   "id": "54ff10a4",
   "metadata": {
    "papermill": {
     "duration": null,
     "end_time": null,
     "exception": null,
     "start_time": null,
     "status": "pending"
    },
    "tags": []
   },
   "outputs": [],
   "source": [
    "torch.save(trained_model1.state_dict(), \"C:/Users/Iraklis Kolokas/Desktop/Thesis/Databases/user_classifier_1.pth\")\n",
    "torch.save(trained_model2.state_dict(), \"C:/Users/Iraklis Kolokas/Desktop/Thesis/Databases/user_classifier_2.pth\")\n",
    "torch.save(trained_model3.state_dict(), \"C:/Users/Iraklis Kolokas/Desktop/Thesis/Databases/user_classifier_w_labels_1.pth\")\n",
    "torch.save(trained_model4.state_dict(), \"C:/Users/Iraklis Kolokas/Desktop/Thesis/Databases/user_classifier_w_labels_2.pth\")"
   ]
  },
  {
   "cell_type": "markdown",
   "id": "581fe32b",
   "metadata": {
    "papermill": {
     "duration": null,
     "end_time": null,
     "exception": null,
     "start_time": null,
     "status": "pending"
    },
    "tags": []
   },
   "source": [
    "Save averages"
   ]
  },
  {
   "cell_type": "code",
   "execution_count": null,
   "id": "329f0334",
   "metadata": {
    "papermill": {
     "duration": null,
     "end_time": null,
     "exception": null,
     "start_time": null,
     "status": "pending"
    },
    "tags": []
   },
   "outputs": [],
   "source": [
    "#Save as pickle file to preserve dictionary structure\n",
    "with open(\"C:/Users/Iraklis Kolokas/Desktop/Thesis/Databases/each_freq_av.pkl\" \"wb\") as f:\n",
    "    pickle.dump(each_freq_av, f)\n",
    "    \n",
    "with open(\"C:/Users/Iraklis Kolokas/Desktop/Thesis/Databases/av_per_user.pkl\" \"wb\") as f:\n",
    "    pickle.dump(av_per_user, f)"
   ]
  }
 ],
 "metadata": {
  "kernelspec": {
   "display_name": "Python 3",
   "language": "python",
   "name": "python3"
  },
  "language_info": {
   "codemirror_mode": {
    "name": "ipython",
    "version": 3
   },
   "file_extension": ".py",
   "mimetype": "text/x-python",
   "name": "python",
   "nbconvert_exporter": "python",
   "pygments_lexer": "ipython3",
   "version": "3.13.3"
  },
  "papermill": {
   "default_parameters": {},
   "duration": 6.088577,
   "end_time": "2025-09-09T18:47:03.274119",
   "environment_variables": {},
   "exception": true,
   "input_path": "C:/Users/Iraklis Kolokas/Documents/GitHub/Diploma-Thesis/Create_database.ipynb",
   "output_path": "C:/Users/Iraklis Kolokas/Documents/GitHub/Diploma-Thesis/Create_database.ipynb",
   "parameters": {},
   "start_time": "2025-09-09T18:46:57.185542",
   "version": "2.6.0"
  }
 },
 "nbformat": 4,
 "nbformat_minor": 5
}
