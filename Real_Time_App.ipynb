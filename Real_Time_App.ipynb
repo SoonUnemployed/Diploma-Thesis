{
 "cells": [
  {
   "cell_type": "code",
   "execution_count": null,
   "id": "8c23a82d",
   "metadata": {},
   "outputs": [],
   "source": [
    "import papermill as pm\n",
    "import os\n",
    "from create_database_functions import get_files, get_averages, make_lists, make_databases, UserClassifier, EEGUserClassifier\n",
    "import numpy as np\n",
    "from sklearn.preprocessing import OneHotEncoder\n",
    "import torch\n",
    "import pickle\n",
    "from scipy.spatial.distance import cosine"
   ]
  },
  {
   "cell_type": "markdown",
   "id": "611c2dd1",
   "metadata": {},
   "source": [
    "Get the files"
   ]
  },
  {
   "cell_type": "code",
   "execution_count": null,
   "id": "c552f1fb",
   "metadata": {},
   "outputs": [],
   "source": [
    "pm.execute_notebook(\n",
    "    \"C:/Users/Iraklis Kolokas/Documents/GitHub/Diploma-Thesis/EEG_Experiment_Interface.ipynb\",\n",
    "    \"C:/Users/Iraklis Kolokas/Documents/GitHub/Diploma-Thesis/EEG_Experiment_Interface.ipynb\"\n",
    "    )"
   ]
  },
  {
   "cell_type": "markdown",
   "id": "2fb98f29",
   "metadata": {},
   "source": [
    "Add parameters to pass file name"
   ]
  },
  {
   "cell_type": "code",
   "execution_count": null,
   "id": "d95b9a6d",
   "metadata": {},
   "outputs": [],
   "source": [
    "file_path = \"C:/Users/Iraklis Kolokas/Desktop/Thesis/Real_time_authentication\""
   ]
  },
  {
   "cell_type": "markdown",
   "id": "d75776d1",
   "metadata": {},
   "source": [
    "Preprocessing"
   ]
  },
  {
   "cell_type": "code",
   "execution_count": null,
   "id": "0da90b06",
   "metadata": {},
   "outputs": [],
   "source": [
    "#Keep only bdf files\",\n",
    "files =[f for f in os.listdir(file_path) if f.endswith(\".bdf\")]\n",
    "                                                                                  \n",
    "for filename in files:\n",
    "    filename = filename[:-4]\n",
    "    #Do the preprocessing for each file\n",
    "    pm.execute_notebook(\n",
    "        #input notebook\n",
    "        f\"C:/Users/Iraklis Kolokas/Documents/GitHub/Diploma-Thesis/Real_Time_Pre.ipynb\",\n",
    "        #output notebook\n",
    "        f\"C:/Users/Iraklis Kolokas/Desktop/Thesis/papermill outputs/output_{filename}.ipynb\",\n",
    "        #parameters\n",
    "        parameters = {\"filename\": filename}\n",
    "    )"
   ]
  },
  {
   "cell_type": "markdown",
   "id": "c77efe7a",
   "metadata": {},
   "source": [
    "Get the features from the file"
   ]
  },
  {
   "cell_type": "code",
   "execution_count": null,
   "id": "1d15c6cc",
   "metadata": {},
   "outputs": [],
   "source": [
    "all_data = get_files(file_path)"
   ]
  },
  {
   "cell_type": "markdown",
   "id": "1b506958",
   "metadata": {},
   "source": [
    "Compute the averages per session and per stimuli frequency per user user for each feature extraction model"
   ]
  },
  {
   "cell_type": "code",
   "execution_count": null,
   "id": "cbdb9dc1",
   "metadata": {},
   "outputs": [],
   "source": [
    "av_per_session_tested, freq_av_tested = get_averages(all_data)"
   ]
  },
  {
   "cell_type": "markdown",
   "id": "5e29a573",
   "metadata": {},
   "source": [
    "Put the data to lists to use with the Neural Network models "
   ]
  },
  {
   "cell_type": "code",
   "execution_count": null,
   "id": "9b3a3597",
   "metadata": {},
   "outputs": [],
   "source": [
    "features_1, stimuli_1, user_ids_1 = make_lists(all_data, 1)\n",
    "features_2, stimuli_2, user_ids_2 = make_lists(all_data, 2)"
   ]
  },
  {
   "cell_type": "code",
   "execution_count": null,
   "id": "bb6fd125",
   "metadata": {},
   "outputs": [],
   "source": [
    "x_1, x_2, y_1, y_2, loader_1, loader_2 = make_databases(features_1, features_2, user_ids_1, user_ids_2)"
   ]
  },
  {
   "cell_type": "code",
   "execution_count": null,
   "id": "fc7f3909",
   "metadata": {},
   "outputs": [],
   "source": [
    "model1 = UserClassifier(x_1.shape[1], len(torch.unique(y_1)))\n",
    "model2 = UserClassifier(x_2.shape[1], len(torch.unique(y_2)))"
   ]
  },
  {
   "cell_type": "markdown",
   "id": "579ae63f",
   "metadata": {},
   "source": [
    "Add the stimuli labels to the data"
   ]
  },
  {
   "cell_type": "code",
   "execution_count": null,
   "id": "acae7955",
   "metadata": {},
   "outputs": [],
   "source": [
    "#Add the stimuli labels to each feature with OneHotEncoder\n",
    "stimuli_1 = np.hstack(stimuli_1)\n",
    "stimuli_2 = np.hstack(stimuli_2)\n",
    "\n",
    "stimuli_1 = stimuli_1.reshape(-1,1)\n",
    "stimuli_2 = stimuli_2.reshape(-1,1)\n",
    "\n",
    "encoder = OneHotEncoder(sparse_output = False)\n",
    "stimuli_1 = encoder.fit_transform(stimuli_1)\n",
    "stimuli_2 = encoder.fit_transform(stimuli_2)\n",
    "\n",
    "#Add the encoded stimuli labels to the corresponding feature\n",
    "features_1 = np.hstack([features_1, stimuli_1])\n",
    "features_2 = np.hstack([features_2, stimuli_2])"
   ]
  },
  {
   "cell_type": "code",
   "execution_count": null,
   "id": "30dc7f63",
   "metadata": {},
   "outputs": [],
   "source": [
    "x_3, x_4, y_3, y_4, loader_3, loader_4 = make_databases(features_1, features_2, user_ids_1, user_ids_2)"
   ]
  },
  {
   "cell_type": "code",
   "execution_count": null,
   "id": "b33627fc",
   "metadata": {},
   "outputs": [],
   "source": [
    "model3 = EEGUserClassifier(x_3.shape[1], len(torch.unique(y_3)))\n",
    "model4 = EEGUserClassifier(x_4.shape[1], len(torch.unique(y_4)))"
   ]
  },
  {
   "cell_type": "markdown",
   "id": "d75165ef",
   "metadata": {},
   "source": [
    "Load the trained models from their files"
   ]
  },
  {
   "cell_type": "code",
   "execution_count": null,
   "id": "58140def",
   "metadata": {},
   "outputs": [],
   "source": [
    "model1.load_state_dict(torch.load(\"C:/Users/Iraklis Kolokas/Desktop/Thesis/Databases/user_classifier_1.pth\"))\n",
    "model2.load_state_dict(torch.load(\"C:/Users/Iraklis Kolokas/Desktop/Thesis/Databases/user_classifier_2.pth\"))\n",
    "model3.load_state_dict(torch.load(\"C:/Users/Iraklis Kolokas/Desktop/Thesis/Databases/user_classifier_w_labels_1.pth\"))\n",
    "model4.load_state_dict(torch.load(\"C:/Users/Iraklis Kolokas/Desktop/Thesis/Databases/user_classifier_w_labels_2.pth\"))"
   ]
  },
  {
   "cell_type": "code",
   "execution_count": null,
   "id": "304581d0",
   "metadata": {},
   "outputs": [],
   "source": [
    "model1.eval()\n",
    "model2.eval()\n",
    "model3.eval()\n",
    "model4.eval()"
   ]
  },
  {
   "cell_type": "markdown",
   "id": "9b0f8375",
   "metadata": {},
   "source": [
    "Load the averages "
   ]
  },
  {
   "cell_type": "code",
   "execution_count": null,
   "id": "2395b7b6",
   "metadata": {},
   "outputs": [],
   "source": [
    "with open(\"C:/Users/Iraklis Kolokas/Desktop/Thesis/Databases/each_freq_av.pkl\", \"rb\") as f:\n",
    "    each_freq_av = pickle.load(f)\n",
    "\n",
    "with open(\"C:/Users/Iraklis Kolokas/Desktop/Thesis/Databases/av_per_user.pkl\", \"rb\") as f:\n",
    "    av_per_user = pickle.load(f)"
   ]
  },
  {
   "cell_type": "markdown",
   "id": "357ae66d",
   "metadata": {},
   "source": [
    "Cosine similarity"
   ]
  },
  {
   "cell_type": "code",
   "execution_count": null,
   "id": "2a9fbda4",
   "metadata": {},
   "outputs": [],
   "source": [
    "per_session_sim_1 = {}\n",
    "per_session_sim_2 = {}\n",
    "\n",
    "#Look through every user and compare the average with the new users average\n",
    "for (tested_user_id, tested_model_id), tested_avg in av_per_session_tested.items():\n",
    "    for (user_id, model_id), avg_features in av_per_user.items():\n",
    "        if model_id == tested_model_id:   \n",
    "            sim = 1 - cosine(tested_avg, avg_features)\n",
    "            if model_id == 1:\n",
    "                per_session_sim_1[user_id] = sim\n",
    "            elif model_id == 2:\n",
    "                per_session_sim_2[user_id] = sim"
   ]
  },
  {
   "cell_type": "code",
   "execution_count": null,
   "id": "cadf117a",
   "metadata": {},
   "outputs": [],
   "source": [
    "per_freq_sim_1 = {}\n",
    "per_freq_sim_2 = {}\n",
    "\n",
    "#Look through every user per stimuli label and compare with the new user average per stimuli label\n",
    "for (tested_user_id, tested_cl_num, tested_model_id), tested_avg in freq_av_tested.items():\n",
    "    for (user_id, cl_num, model_id), avg_features in each_freq_av.items():\n",
    "        if tested_cl_num == cl_num and model_id == tested_model_id:    \n",
    "            sim = 1 - cosine(tested_avg, avg_features)\n",
    "            if model_id == 1:\n",
    "                per_freq_sim_1[(user_id, cl_num)] = sim\n",
    "            elif model_id == 2:\n",
    "                per_freq_sim_2[(user_id, cl_num)] = sim"
   ]
  },
  {
   "cell_type": "code",
   "execution_count": null,
   "id": "958ade89",
   "metadata": {},
   "outputs": [],
   "source": [
    "#Print the results and add certainty threshold"
   ]
  },
  {
   "cell_type": "markdown",
   "id": "969f5996",
   "metadata": {},
   "source": [
    "Neural Network "
   ]
  },
  {
   "cell_type": "code",
   "execution_count": null,
   "id": "377e6f23",
   "metadata": {},
   "outputs": [],
   "source": [
    "#Run each model with the correct data to authenticate\n",
    "with torch.no_grad():\n",
    "    outputs_1 = model1(x_1)\n",
    "_, prediction_1 = torch.max(outputs_1, dim = 1)\n",
    "\n",
    "with torch.no_grad():\n",
    "    outputs_2 = model2(x_2)\n",
    "_, prediction_2 = torch.max(outputs_2, dim = 1)\n",
    "\n",
    "with torch.no_grad():\n",
    "    outputs_3 = model3(x_3)\n",
    "_, prediction_3 = torch.max(outputs_3, dim = 1)\n",
    "\n",
    "with torch.no_grad():\n",
    "    outputs_4 = model4(x_4)\n",
    "_, prediction_4 = torch.max(outputs_4, dim = 1)"
   ]
  },
  {
   "cell_type": "code",
   "execution_count": null,
   "id": "898fe99e",
   "metadata": {},
   "outputs": [],
   "source": [
    "#Print the results and add certainty threshold"
   ]
  }
 ],
 "metadata": {
  "kernelspec": {
   "display_name": "Python 3",
   "language": "python",
   "name": "python3"
  },
  "language_info": {
   "codemirror_mode": {
    "name": "ipython",
    "version": 3
   },
   "file_extension": ".py",
   "mimetype": "text/x-python",
   "name": "python",
   "nbconvert_exporter": "python",
   "pygments_lexer": "ipython3",
   "version": "3.13.3"
  }
 },
 "nbformat": 4,
 "nbformat_minor": 5
}
