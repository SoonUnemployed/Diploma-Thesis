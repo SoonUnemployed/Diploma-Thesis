{
 "cells": [
  {
   "cell_type": "code",
   "execution_count": 70,
   "id": "ea6ba20b",
   "metadata": {},
   "outputs": [],
   "source": [
    "import tkinter as tk\n",
    "import pygame \n",
    "import time\n",
    "import datetime\n",
    "import random\n",
    "from mutagen.mp3 import MP3\n",
    "import pandas as pd\n",
    "import serial\n",
    "import numpy as np\n",
    "from scipy.io.wavfile import write\n",
    "import soundfile\n",
    "import contextlib"
   ]
  },
  {
   "cell_type": "markdown",
   "id": "3f575599",
   "metadata": {},
   "source": [
    "Generate the stimuli .wav files"
   ]
  },
  {
   "cell_type": "code",
   "execution_count": 71,
   "id": "d4287bed",
   "metadata": {},
   "outputs": [],
   "source": [
    "samplerate = 44100 \n",
    "duration = 1.5\n",
    "frequency = 500 \n",
    "\n",
    "t = np.linspace(0., duration, int(samplerate * duration))\n",
    "signal = 0.5 * np.sin(2. * np.pi * frequency * t)\n",
    "write('stimuli0.wav', samplerate, signal.astype(np.float32))\n",
    "\n",
    "frequency = 2000\n",
    "\n",
    "t = np.linspace(0., duration, int(samplerate * duration))\n",
    "signal = 0.5 * np.sin(2. * np.pi * frequency * t)\n",
    "write('stimuli1.wav', samplerate, signal.astype(np.float32))\n",
    "\n",
    "frequency = 4000\n",
    "\n",
    "t = np.linspace(0., duration, int(samplerate * duration))\n",
    "signal = 0.5 * np.sin(2. * np.pi * frequency * t)\n",
    "write('stimuli2.wav', samplerate, signal.astype(np.float32))"
   ]
  },
  {
   "cell_type": "code",
   "execution_count": 72,
   "id": "2e3cfe5c",
   "metadata": {},
   "outputs": [],
   "source": [
    "class BiosemiTrigger(serial.Serial):\n",
    "    def __init__(self, Serial_Port, initial_delay = 3):\n",
    "        super().__init__(Serial_Port, baudrate = 115200)\n",
    "        time.sleep(initial_delay)\n",
    "\n",
    "    def send_trigger(self, root, duration = 8, signal_byte = 0b00000010):\n",
    "        if not (0 <= signal_byte <= 255):\n",
    "                raise ValueError(\"signal_byte must be between 0 and 255\")\n",
    "        self.write(bytes([signal_byte]))\n",
    "        #time.sleep(0.001) #1ms pulse duration\n",
    "        root.after(duration, lambda: self.write(bytes([0])))"
   ]
  },
  {
   "cell_type": "code",
   "execution_count": 73,
   "id": "0ffc1045",
   "metadata": {},
   "outputs": [],
   "source": [
    "def create_canvas(tk_window):\n",
    "    screen_width = tk_window.winfo_screenwidth()\n",
    "    screen_height = tk_window.winfo_screenheight()\n",
    "\n",
    "    canvas = tk.Canvas(tk_window, width = screen_width, height = screen_height, bg = \"black\", highlightthickness = 0)\n",
    "    canvas.pack(fill = \"both\", expand = True)\n",
    "    return canvas"
   ]
  },
  {
   "cell_type": "code",
   "execution_count": null,
   "id": "c91f963f",
   "metadata": {},
   "outputs": [],
   "source": [
    "def create_cross(canvas, tk_window): \n",
    "    global timestamp\n",
    "    if timestamp: \n",
    "        if timestamp[-1][2] is None:\n",
    "            timestamp[-1][2] = datetime.datetime.now()\n",
    "    timestamp.append(['Resting State', datetime.datetime.now(), None])\n",
    "\n",
    "    screen_width = tk_window.winfo_screenwidth()\n",
    "    screen_height = tk_window.winfo_screenheight()\n",
    "    \n",
    "    cross_length = 250\n",
    "    line_thickness = 13\n",
    "    x_center = screen_width // 2\n",
    "    y_center = screen_height // 2\n",
    "\n",
    "    horizontal_line = canvas.create_line(x_center - cross_length // 2, y_center,\n",
    "                    x_center + cross_length // 2, y_center,\n",
    "                    fill = \"white\", width = line_thickness)\n",
    "\n",
    "    vertical_line = canvas.create_line(x_center, y_center - cross_length // 2,\n",
    "                    x_center, y_center + cross_length // 2,\n",
    "                    fill = \"white\", width = line_thickness)\n",
    "    "
   ]
  },
  {
   "cell_type": "code",
   "execution_count": 76,
   "id": "f8fb62ef",
   "metadata": {},
   "outputs": [],
   "source": [
    "def stimuli_duration(selector):\n",
    "    filename = f\"stimuli{selector}.wav\"\n",
    "    with contextlib.closing(soundfile.SoundFile(filename)) as f: #closes the .wav file after the function finishes\n",
    "        frames = f.frames\n",
    "        rate = f.samplerate\n",
    "        duration = frames / float(rate)\n",
    "        duration = int(duration * 1000)\n",
    "    return duration"
   ]
  },
  {
   "cell_type": "code",
   "execution_count": 77,
   "id": "1bbedb4f",
   "metadata": {},
   "outputs": [],
   "source": [
    "def stimuli(tk_window, selector, biosemi_trigger):\n",
    "    filename = f\"stimuli{selector}.wav\"\n",
    "    stim = pygame.mixer.Sound(filename)\n",
    "    \n",
    "    duration = stimuli_duration(selector)\n",
    "    biosemi_trigger.send_trigger(tk_window, duration)\n",
    "    stim.play()"
   ]
  },
  {
   "cell_type": "code",
   "execution_count": null,
   "id": "66e3cebc",
   "metadata": {},
   "outputs": [],
   "source": [
    "def stim_bg(canvas, tk_window, selector, biosemi_trigger):\n",
    "    global timestamp\n",
    "    if timestamp: \n",
    "        if timestamp[-1][2] is None:\n",
    "            timestamp[-1][2] = datetime.datetime.now()\n",
    "    timestamp.append(['Resting State', datetime.datetime.now(), None])\n",
    "    \n",
    "    canvas.delete('all')\n",
    "    stimuli(tk_window, selector, biosemi_trigger)"
   ]
  },
  {
   "cell_type": "code",
   "execution_count": 92,
   "id": "be2aeabc",
   "metadata": {},
   "outputs": [],
   "source": [
    "def random_time():\n",
    "    randomtime = int(round(random.uniform(9.0, 12.0), 1) * 1000)\n",
    "    return randomtime"
   ]
  },
  {
   "cell_type": "code",
   "execution_count": null,
   "id": "81519a56",
   "metadata": {},
   "outputs": [],
   "source": [
    "def stimuli_cicle(time, tk_window, canvas, selector, biosemi_trigger):\n",
    "    duration = stimuli_duration(selector)\n",
    "    wait = random_time()\n",
    "\n",
    "    tk_window.after(time+wait, lambda: stim_bg(canvas, tk_window, selector, biosemi_trigger))\n",
    "    tk_window.after(time+wait+duration, lambda: create_cross(canvas, tk_window))\n",
    "    return wait"
   ]
  },
  {
   "cell_type": "code",
   "execution_count": null,
   "id": "6c7edde8",
   "metadata": {},
   "outputs": [],
   "source": [
    "def create_csv(input):\n",
    "    global timestamp\n",
    "    if timestamp: \n",
    "        if timestamp[-1][2] is None:\n",
    "            timestamp[-1][2] = datetime.datetime.now()\n",
    "    df = pd.DataFrame(timestamp, columns = ['State', 'Begin', 'End'])\n",
    "    df.drop(columns=['Unnamed: 0'])\n",
    "    df.to_csv(f\"{input}.csv\")"
   ]
  },
  {
   "cell_type": "code",
   "execution_count": null,
   "id": "dec24b5d",
   "metadata": {},
   "outputs": [],
   "source": [
    "def start_exp(input, biosemi_trigger): \n",
    "    global timestamp\n",
    "    timestamp = []\n",
    "\n",
    "    w2 = tk.Tk()\n",
    "    w2.title(\"Experiment\")\n",
    "    w2.attributes(\"-fullscreen\", True)\n",
    "\n",
    "    canvas = create_canvas(w2)\n",
    "    create_cross(canvas, w2, input)\n",
    "    \n",
    "    time = 0\n",
    "    for i in range(3):\n",
    "        wait = stimuli_cicle(time, w2, canvas, input, i, biosemi_trigger)\n",
    "        time = wait + time\n",
    "        \n",
    "    wait_close = time + stimuli_duration(2) + 2000\n",
    "    w2.after(wait_close, lambda: create_csv(input))\n",
    "    w2.after(wait_close, lambda: w2.destroy())"
   ]
  },
  {
   "cell_type": "code",
   "execution_count": 82,
   "id": "5568cbb0",
   "metadata": {},
   "outputs": [],
   "source": [
    "biosemi_trigger = BiosemiTrigger(\"COM4\", initial_delay = 1)\n",
    "\n",
    "w1 = tk.Tk()\n",
    "w1.geometry(\"300x200\")\n",
    "w1.title(\"Start\")\n",
    "pygame.mixer.init()\n",
    "\n",
    "\n",
    "frame = tk.Frame(w1)\n",
    "frame.pack(expand = True)\n",
    "\n",
    "entry = tk.Entry(frame)\n",
    "entry.pack(pady = (0, 5))\n",
    "\n",
    "b = tk.Button(frame, text = \"Start\", command = lambda: start_exp(entry.get(), biosemi_trigger))\n",
    "b.pack()\n",
    "\n",
    "w1.mainloop()\n",
    "biosemi_trigger.close()\n",
    "pygame.quit()"
   ]
  },
  {
   "cell_type": "code",
   "execution_count": 83,
   "id": "edf69a81",
   "metadata": {},
   "outputs": [
    {
     "name": "stdout",
     "output_type": "stream",
     "text": [
      "           State                       Begin                         End\n",
      "0  Resting State  2025-05-06 15:39:01.882328  2025-05-06 15:39:07.596234\n",
      "1        Stimuli  2025-05-06 15:39:07.606762  2025-05-06 15:39:09.096140\n",
      "2  Resting State  2025-05-06 15:39:09.104412  2025-05-06 15:39:14.202137\n",
      "3        Stimuli  2025-05-06 15:39:14.210639  2025-05-06 15:39:15.701351\n",
      "4  Resting State  2025-05-06 15:39:15.710244  2025-05-06 15:39:21.706648\n",
      "5        Stimuli  2025-05-06 15:39:21.714129  2025-05-06 15:39:23.206590\n",
      "6  Resting State  2025-05-06 15:39:23.214881  2025-05-06 15:39:25.210525\n"
     ]
    }
   ],
   "source": [
    "df=pd.read_csv(\"test.csv\")\n",
    "print(df)"
   ]
  },
  {
   "cell_type": "code",
   "execution_count": 86,
   "id": "7072d401",
   "metadata": {},
   "outputs": [
    {
     "name": "stdout",
     "output_type": "stream",
     "text": [
      "     State                  Begin                       End\n",
      "0  Stimuli  timestamp that begins  datetime.datetime.now())\n"
     ]
    }
   ],
   "source": [
    "ar_of_items = []\n",
    "\n",
    "timestamp_begin = 'timestamp that begins' \n",
    "timestamp_end = 'datetime.datetime.now())'\n",
    "\n",
    "ar_of_items.append(['Stimuli',timestamp_begin,timestamp_end])\n",
    "\n",
    "\n",
    "### Sto save\n",
    "df = pd.DataFrame(ar_of_items,columns=['State','Begin','End'])\n",
    "\n",
    "print(df)"
   ]
  }
 ],
 "metadata": {
  "kernelspec": {
   "display_name": "Python 3",
   "language": "python",
   "name": "python3"
  },
  "language_info": {
   "codemirror_mode": {
    "name": "ipython",
    "version": 3
   },
   "file_extension": ".py",
   "mimetype": "text/x-python",
   "name": "python",
   "nbconvert_exporter": "python",
   "pygments_lexer": "ipython3",
   "version": "3.13.3"
  }
 },
 "nbformat": 4,
 "nbformat_minor": 5
}
